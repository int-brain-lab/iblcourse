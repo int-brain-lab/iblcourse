{
 "cells": [
  {
   "cell_type": "markdown",
   "source": [],
   "metadata": {
    "collapsed": false
   }
  },
  {
   "cell_type": "markdown",
   "source": [
    "In this practical course, you will first explore raw electrophysiology data, and then chose one out of these projects:\n",
    "\n",
    "1. Write an algorithm to detect spikes on a single electrode channel\n",
    "2. Explore the distribution of spike waveform shapes\n",
    "\n",
    "# Introduction: What data will be used\n",
    "You will use raw electrophysiology data acquired in the mouse brain using Neuropixels probes. A Neuropixels probe has typically 384 electrode channels, aligned vertically."
   ],
   "metadata": {
    "collapsed": false
   },
   "outputs": []
  },
  {
   "cell_type": "markdown",
   "source": [
    "![Neuropixels probe](../neural_course/images/41586_2017_Article_BFnature24636_Fig1_HTML.jpg?raw=true)\n",
    "\n",
    "Read the full caption in the [article](https://www.nature.com/articles/nature24636)"
   ],
   "metadata": {
    "collapsed": false
   }
  },
  {
   "cell_type": "markdown",
   "source": [
    "The raw data you will explore is the \"action potential\" band (AP) of what is acquired on the electrodes, i.e. the high-pass filtered voltage signal that contains mainly action potentials (or \"spikes\") of neural cells. This voltage signal is acquired at a sampling rate of 30'000 Hz. We will give you data snippets of 1 second long, and will display typically 50 millisecond within it, to see the spikes that last around 1 millisecond.\n",
    "\n",
    "As it is interesting to see such signal unfolding over time across all the 384 electrode channels at once, we use a display of `time x electrode depth`, and a grey-color scale indicates the voltage value. The baseline voltage is grey, and any deflection from it will be colored either black or white. Note that across depth, the electrodes may cross different brain regions (see the colouring on the right-hand column).\n",
    "\n",
    "On the example below, spikes are highlighted with dots (green or red). Some are selected with an arrow and circle to exemplify three distinct categories:\n",
    "- in violet: spikes that are **not detected** by our algorithm\n",
    "- in red: spikes that are detected, but classified as belonging to a **bad unit**\n",
    "- in green: spikes that are detected, and classified as belonging to a **good unit**"
   ],
   "metadata": {
    "collapsed": false
   }
  },
  {
   "cell_type": "markdown",
   "source": [
    "![Reveal website example (PID 1e104b)](../neural_course/images/1e104bf4-7a24-4624-a5b2-c2c8289c0de7_2020-09-20_1_SWC_043_probe00_destripe_T0600__annotated.jpg?raw=true)"
   ],
   "metadata": {
    "collapsed": false
   }
  },
  {
   "cell_type": "markdown",
   "source": [
    "## Select one of the dataset available"
   ],
   "metadata": {
    "collapsed": false
   }
  },
  {
   "cell_type": "markdown",
   "source": [
    "Three datasets have been selected to run this course, however many more are available online shall you want to replicate this in your own time.\n",
    "\n",
    "For this course, you can use either:\n",
    "\n",
    "- Data in the cortex and caudoputamen ; PID `1a276285-8b0e-4cc9-9f0a-a3a002978724`, at 1500s in the recording\n",
    "- Data in the hindbrain ; PID `5d570bf6-a4c6-4bf1-a14b-2c878c84ef0e`, at 1500s in the recording\n",
    "- Data in the olfactory bulb ; PID `6638cfb3-3831-4fc2-9327-194b76cf22e1`, at 1500s in the recording"
   ],
   "metadata": {
    "collapsed": false
   }
  },
  {
   "cell_type": "markdown",
   "source": [
    "![3 PIDs available](../neural_course/images/3_pids.png?raw=true)"
   ],
   "metadata": {
    "collapsed": false
   }
  },
  {
   "cell_type": "markdown",
   "source": [
    "## Download the datasets\n",
    "\n",
    "TODO"
   ],
   "metadata": {
    "collapsed": false
   }
  },
  {
   "cell_type": "markdown",
   "source": [],
   "metadata": {
    "collapsed": false
   }
  },
  {
   "cell_type": "markdown",
   "source": [
    "# Step 1: Explore the data"
   ],
   "metadata": {
    "collapsed": false
   }
  },
  {
   "cell_type": "markdown",
   "source": [
    "## Preview using the websites"
   ],
   "metadata": {
    "collapsed": false
   }
  },
  {
   "cell_type": "markdown",
   "source": [
    "You can easily preview the data at three time snippet onto the 2 websites listed below, to give you a feel for what it may look like in the one snippet you will be analysing (note that your snippet will be taken at a slightly different time point than what's displayed on these webpages).\n"
   ],
   "metadata": {
    "collapsed": false
   }
  },
  {
   "cell_type": "markdown",
   "source": [
    "### The reveal website\n",
    "Use the reveal website dedicated to displaying the raw data and the spike sorting output:\n",
    "- [PID 1a276285](http://reveal.internationalbrainlab.org.s3-website-us-east-1.amazonaws.com/benchmarks.html#/0/3)\n",
    "- [PID 5d570bf6](http://reveal.internationalbrainlab.org.s3-website-us-east-1.amazonaws.com/benchmarks.html#/2/4)\n",
    "- [PID 6638cfb3](http://reveal.internationalbrainlab.org.s3-website-us-east-1.amazonaws.com/benchmarks.html#/4/4)\n",
    "\n",
    "![Reveal website example (PID 1e104b)](../neural_course/images/1e104bf4-7a24-4624-a5b2-c2c8289c0de7_2020-09-20_1_SWC_043_probe00_destripe_T0600.jpg?raw=true)"
   ],
   "metadata": {
    "collapsed": false
   }
  },
  {
   "cell_type": "markdown",
   "source": [
    "### The visualisation website\n",
    "Use the visualisation website to see not only the raw data and spike sorting output, but also many other electrophysiological features from the same recording.\n",
    "- [PID 1a276285](https://viz.internationalbrainlab.org/app?dset=bwm&pid=1a276285-8b0e-4cc9-9f0a-a3a002978724&tid=0&cid=762&qc=0)\n",
    "- [PID 5d570bf6](https://viz.internationalbrainlab.org/app?dset=bwm&pid=5d570bf6-a4c6-4bf1-a14b-2c878c84ef0e&tid=0&cid=555&qc=1)\n",
    "- [PID 6638cfb3](https://viz.internationalbrainlab.org/app?dset=bwm&pid=6638cfb3-3831-4fc2-9327-194b76cf22e1&tid=0&cid=435&qc=0)\n",
    "\n",
    "![Visualisation website example (PID 1e104b)](../neural_course/images/1e104bf4-7a24-4624-a5b2-c2c8289c0de7_overview.png?raw=true)"
   ],
   "metadata": {
    "collapsed": false
   }
  },
  {
   "cell_type": "markdown",
   "source": [
    "## Explore in depth using the viewephys GUI\n",
    "\n",
    "You will be using a graphical user interface (GUI) to explore the raw electrophysiology data. This is a program to install on your computer, in the python environment `coursenv`.\n",
    "\n",
    "### Installation\n",
    "\n",
    "#### Before starting:  Learn to use the terminal\n",
    "You will need to be familiar with the terminal, a native program on your machine that helps you run commands. Learn how to launch it, as well as useful commands (we will mainly use the `pip` command) via this reference:\n",
    "- [Learning how to use the terminal](https://realpython.com/terminal-commands/)\n",
    "\n",
    "#### Before starting:  Install Anaconda and Git\n",
    "Install Anaconda and Git, selecting the packages depending on your OS (Max, Windows or Linux):\n",
    "- [Anaconda](https://docs.anaconda.com/free/anaconda/install/index.html)\n",
    "- [Git](https://git-scm.com/downloads)\n",
    "\n",
    "#### Begin the installation\n",
    "Once you are familiarised with the terminal, proceed to install the Python environment `coursenv`:\n",
    "- Open a terminal, and type in the following commands:\n",
    "\n",
    "```\n",
    "conda create --name coursenv python=3.10 --yes\n",
    "conda activate coursenv\n",
    "pip install ibllib\n",
    "pip install viewephys\n",
    "pip install ibl-neuropixel\n",
    "```\n",
    "\n",
    "These commands will:\n",
    "- Create and activate the `coursenv` environment\n",
    "- Install [viewephys](https://github.com/int-brain-lab/viewephys#installation )\n",
    "- Install other dependencies necessary: [ibl-neuropixel](https://github.com/int-brain-lab/ibl-neuropixel/tree/main) and [ibllib](https://github.com/int-brain-lab/ibllib)\n"
   ],
   "metadata": {
    "collapsed": false
   }
  },
  {
   "cell_type": "markdown",
   "source": [
    "### Launch the GUI\n",
    "Open your python interpreter. Make sure it is using the environment `coursenv`.\n",
    "\n",
    "Run the lines in [this script](https://github.com/int-brain-lab/ibldevtools/blob/master/Gaelle/courses/neural_course_launch_viewephys.py) to launch the viewephys GUI.\n",
    "\n",
    "- The default data will be PID `5d570bf6-a4c6-4bf1-a14b-2c878c84ef0e`, at 1500s in the recording. You can change this at the top of the script.\n",
    "\n",
    "### Use the GUI\n",
    "The first view will be a gray background with purple dots overlaid. The gray background is the voltage trace captured on each channel of the Neuropixels electrode (x-axis: time, y-axis: channels). At first, the whole 1 second data snippet is shown. You need to zoom in to see spikes, which last on the order of 1 millisecond.\n",
    "\n",
    "To zoom in, hold the button `control`, click in the middle of the GUI window and drag laterally towards the right using your mouse.\n",
    "Once you can see spikes more clearly, you can click on the purple dot overlaid. You should see a pop-up window appearing, showing you different aspects of the spike selected.\n",
    "\n",
    "View the voltage on a single channel by using the widget tool. Activate it by right-clicking on the GUI window, and selecting \"View Trace\"."
   ],
   "metadata": {
    "collapsed": false
   }
  },
  {
   "cell_type": "markdown",
   "source": [
    "![Reveal website example (Viewephys GUI with missing spike and trace widget)](../neural_course/images/missing_spike.png?raw=true)"
   ],
   "metadata": {
    "collapsed": false
   }
  },
  {
   "cell_type": "markdown",
   "source": [
    "The `x` and `t` values in the left-bottom corner show you respectively the channel index, and the time (in millisecond) within the data snippet where your mouse cursor is. This will be useful to you if searching for a channel / time point with missing spikes (Project 1)."
   ],
   "metadata": {
    "collapsed": false
   }
  },
  {
   "cell_type": "markdown",
   "source": [
    "# Step 2: Select a project"
   ],
   "metadata": {
    "collapsed": false
   }
  },
  {
   "cell_type": "markdown",
   "source": [
    "## Project 1: Write an algorithm to detect spikes on a single electrode channel"
   ],
   "metadata": {
    "collapsed": false
   }
  },
  {
   "cell_type": "markdown",
   "source": [
    "In this project, you will:\n",
    "- Explore the raw data using the viewephys GUI to find missing spikes\n",
    "- Identify a single channel where you believe a spike of large amplitude is missing\n",
    "- Create a variable that contains just that channel data, and plot it\n",
    "- Write an algorithm to detect the identified spike, based on a single threshold crossing\n",
    "- Plot where you detected spikes, and plot the voltage trace for the spike(s) you detected using your method\n",
    "\n",
    "Questions to answer:\n",
    "- What happens if you change the threshold value? What would be a good way to set that threshold value?\n",
    "- What are the issues encountered with this algorithm? Can you think of a more sophisticated one that would solve these issues?"
   ],
   "metadata": {
    "collapsed": false
   }
  },
  {
   "cell_type": "markdown",
   "source": [
    "### Identify a missing spike\n",
    "\n",
    "Using the viewephys GUI as explained in Step 1, identify a channel and time where there is a missing spike, i.e. a clear deflection in the voltage traces, but that has no purple dot overlaid. Place your mouse over where you think the missing spike is, then take a screenshot of the GUI window, for later reference. You will reuse the `x` and the time axis values from this GUI window in the analysis.\n",
    "\n",
    "Note: If you do not manage to use the GUI, simply select an arbitrary channel number and time point (you can re-use the one selected as part of the example below)."
   ],
   "metadata": {
    "collapsed": false
   }
  },
  {
   "cell_type": "markdown",
   "source": [
    "### Loading and visualising the data\n",
    "\n",
    "Use the `LoadData` class to get the necessary dataset. Here we show you how to load the default dataset, but please change the variables to your local data path and the PID of your choice."
   ],
   "metadata": {
    "collapsed": false
   }
  },
  {
   "cell_type": "code",
   "execution_count": null,
   "outputs": [],
   "source": [
    "import numpy as np\n",
    "import matplotlib.pyplot as plt\n",
    "from pathlib import Path\n",
    "from ibldevtools.Gaelle.courses.neural_course_viewephys_model import LoadData\n",
    "\n",
    "LOCAL_DATA_PATH = Path('/Users/gaelle/Documents/Work/EphysAtlas/Data')\n",
    "pid = '5d570bf6-a4c6-4bf1-a14b-2c878c84ef0e'\n",
    "time0 = 1500\n",
    "\n",
    "data = LoadData(LOCAL_DATA_PATH, pid, time0)"
   ],
   "metadata": {
    "collapsed": false,
    "pycharm": {
     "name": "#%%\n",
     "is_executing": true
    }
   }
  },
  {
   "cell_type": "markdown",
   "source": [
    "The raw data is contained in the matrix `data.ap` of shape N channels x N samples, which is respectively equal to 384 (for a Neuropixels probe) and 30000 (as we selected 1 second of data, and our sampling frequency is 30000Hz)."
   ],
   "metadata": {
    "collapsed": false
   }
  },
  {
   "cell_type": "code",
   "execution_count": null,
   "outputs": [],
   "source": [
    "print(data.ap.shape)"
   ],
   "metadata": {
    "collapsed": false,
    "pycharm": {
     "name": "#%%\n",
     "is_executing": true
    }
   }
  },
  {
   "cell_type": "markdown",
   "source": [
    "You will have to select one channel from it, i.e. an entire row of the matrix. To do so, use `:` :"
   ],
   "metadata": {
    "collapsed": false
   }
  },
  {
   "cell_type": "code",
   "execution_count": null,
   "outputs": [],
   "source": [
    "indx_row = 274  # Note that indices start from 0, not 1\n",
    "\n",
    "single_row = data.ap[indx_row, :]\n",
    "print(single_row.shape)"
   ],
   "metadata": {
    "collapsed": false,
    "pycharm": {
     "name": "#%%\n",
     "is_executing": true
    }
   }
  },
  {
   "cell_type": "markdown",
   "source": [
    "To develop your algorithm and quickly visualise the result, you can plot data during a smaller time window:"
   ],
   "metadata": {
    "collapsed": false
   }
  },
  {
   "cell_type": "code",
   "execution_count": null,
   "outputs": [],
   "source": [
    "time_plot = np.array([475., 490.])  # start and end ; in millisecond\n",
    "\n",
    "# We need to convert the millisecond values into integer increments to index our matrix\n",
    "# For this, we use the sampling frequency, and divide by 1000 to pass from millisecond to second\n",
    "index_plot = (time_plot * data.fs_ap / 1000).astype('int')\n",
    "\n",
    "# Take the data between these indices\n",
    "single_row_window = single_row[index_plot[0]:index_plot[1]]\n",
    "\n",
    "# Recompute the time at which we start plotting (needed as we did a conversion to integers, which is equivalent to rounding)\n",
    "t_actual = index_plot * 1000 / data.fs_ap  # in milliseconds\n",
    "# Compute a time vector for plotting, of the same size as our matrix\n",
    "t_vector = np.linspace(t_actual[0], t_actual[1], num=len(single_row_window))"
   ],
   "metadata": {
    "collapsed": false,
    "pycharm": {
     "name": "#%%\n",
     "is_executing": true
    }
   }
  },
  {
   "cell_type": "markdown",
   "source": [
    "We can now plot the data during this time window. For this, you will create a matplotlib figure:"
   ],
   "metadata": {
    "collapsed": false
   }
  },
  {
   "cell_type": "code",
   "execution_count": null,
   "outputs": [],
   "source": [
    "plt.plot(t_vector, single_row_window)\n",
    "plt.xlabel('Time in recording (ms)')\n",
    "plt.ylabel('Voltage (V)')"
   ],
   "metadata": {
    "collapsed": false,
    "pycharm": {
     "name": "#%%\n",
     "is_executing": true
    }
   }
  },
  {
   "cell_type": "markdown",
   "source": [
    "### Create an algorithm to detect spikes\n",
    "\n",
    "We will show you a simple single-threshold method to detect spikes. Once this is mastered, feel free to experiment with different threshold values, different data, or even write a new algorithm.\n",
    "\n",
    "First, use the shortened data to develop your algorithm and plot quickly the result."
   ],
   "metadata": {
    "collapsed": false
   }
  },
  {
   "cell_type": "markdown",
   "source": [
    "The single-threshold algorithm is based on the observation that spikes are of large amplitude, and go downwards (i.e. the voltage is negative). To show you this, we will draw a line at 40 micro Volt = 4 * 10 to the power -6 Volt."
   ],
   "metadata": {
    "collapsed": false
   }
  },
  {
   "cell_type": "code",
   "execution_count": null,
   "outputs": [],
   "source": [
    "threshold = -40 * 1e-6  # Volt ; Notice the nomenclature \"e\" for 10 power...\n",
    "\n",
    "plt.plot(t_vector, single_row_window)\n",
    "plt.xlabel('Time in recording (ms)')\n",
    "plt.ylabel('Voltage (V)')\n",
    "\n",
    "plt.hlines(threshold, t_vector[0], t_vector[-1])  # Notice the use of -1 to access the last value"
   ],
   "metadata": {
    "collapsed": false,
    "pycharm": {
     "name": "#%%\n",
     "is_executing": true
    }
   }
  },
  {
   "cell_type": "markdown",
   "source": [
    "To detect these downward spikes, we will search for the moment at which the voltage trace crosses the threshold. We will use the following approach:\n",
    "- we will search for the increment in the matrix where the value is above the threshold or equal to it, and the next increment value is below the threshold. We will use the `numpy where` function for this\n",
    "- we will create two vectors: one that is the matrix removing its last value, and one that is the matrix removing the first value. This is effectively to have two vectors of the same length, but for the same increment within it the two vectors will return the values at the index, and at the index+1 respectively."
   ],
   "metadata": {
    "collapsed": false
   }
  },
  {
   "cell_type": "code",
   "execution_count": null,
   "outputs": [],
   "source": [
    "vector1 = single_row_window[0:-2]\n",
    "vector2 = single_row_window[1:-1]\n",
    "\n",
    "# We show here that the sizes are similar\n",
    "print(f'Size of vector1: {len(vector1)}, vector2: {len(vector2)}')\n",
    "\n",
    "# We show here the values in comparison with those contained in single_row_window:\n",
    "index_show = 23\n",
    "print(f'Value at index {index_show} for vector1: {vector1[index_show]}, vector2: {vector2[index_show]}, \\n'\n",
    "      f'Value at index {index_show} for single_row_window: {single_row_window[index_show]}, at index {index_show+1}: {single_row_window[index_show+1]}')"
   ],
   "metadata": {
    "collapsed": false,
    "pycharm": {
     "name": "#%%\n",
     "is_executing": true
    }
   }
  },
  {
   "cell_type": "markdown",
   "source": [
    "We use the `where` function from numpy to get the index where the voltage trace change values:"
   ],
   "metadata": {
    "collapsed": false
   }
  },
  {
   "cell_type": "code",
   "execution_count": null,
   "outputs": [],
   "source": [
    "index_cross = np.where((vector1 >= threshold) & (vector2 < threshold))[0]\n",
    "print(index_cross)\n",
    "print(f'We have detected {len(index_cross)} spikes')"
   ],
   "metadata": {
    "collapsed": false,
    "pycharm": {
     "name": "#%%\n",
     "is_executing": true
    }
   }
  },
  {
   "cell_type": "markdown",
   "source": [
    "We now plot these indices (converted back to time) on top of the trace:"
   ],
   "metadata": {
    "collapsed": false
   }
  },
  {
   "cell_type": "code",
   "execution_count": null,
   "outputs": [],
   "source": [
    "plt.plot(t_vector, single_row_window, '.-')  # We plot with dots . to show the data samples\n",
    "plt.xlabel('Time in recording (ms)')\n",
    "plt.ylabel('Voltage (V)')\n",
    "\n",
    "plt.hlines(threshold, t_vector[0], t_vector[-1])  # Notice the use of -1 to access the last value\n",
    "\n",
    "plt.plot(t_vector[index_cross], single_row_window[index_cross], 'xr')"
   ],
   "metadata": {
    "collapsed": false,
    "pycharm": {
     "name": "#%%\n",
     "is_executing": true
    }
   }
  },
  {
   "cell_type": "markdown",
   "source": [
    "### Further exercices\n",
    "\n",
    "#### Plot spike waveforms\n",
    "Now that you have detected spikes, can you plot their spike waveform?\n",
    "\n",
    "For this, you need to define a time window around the detection time, and take the corresponding values from within your voltage trace.\n",
    "\n",
    "#### Change the threshold\n",
    "How many spikes do you detect if you lower the treshold to -2 micro Volt? Are these real spikes, or are some noise?\n",
    "\n",
    "#### Plotting your detected spike times into the viewephys GUI\n",
    "Run the detection algorithm on the whole single-channel trace (30000 samples long), and get back the `index_cross`.\n",
    "You can upload them into the viewephys GUI using this command:\n",
    "\n",
    "```\n",
    "# Instantiate viewephys\n",
    "ae = ViewSpikeModel(LOCAL_DATA_PATH, pid, time0)\n",
    "# Plotting the main GUI window\n",
    "ae.view()\n",
    "# Add your spikes\n",
    "ae.plot_index(index_cross, channel=indx_row)\n",
    "```"
   ],
   "metadata": {
    "collapsed": false,
    "pycharm": {
     "name": "#%% md\n"
    }
   }
  },
  {
   "cell_type": "markdown",
   "source": [
    "Note:  the dots will be red, you will not be able to click on them to see the waveforms as you can do for the purple spikes.\n",
    "\n",
    "Do the spikes you detected overlay well with those in pink ? How would you compare using Python?"
   ],
   "metadata": {
    "collapsed": false
   }
  },
  {
   "cell_type": "markdown",
   "source": [
    "## Project 2: Explore the waveform shapes"
   ],
   "metadata": {
    "collapsed": false
   }
  },
  {
   "cell_type": "markdown",
   "source": [
    "### Load the data\n",
    "First, let's load the data as shown for Project 1, but this time we want to see how many spikes there are."
   ],
   "metadata": {
    "collapsed": false
   }
  },
  {
   "cell_type": "code",
   "execution_count": null,
   "outputs": [],
   "source": [
    "# Load the data\n",
    "data = LoadData(LOCAL_DATA_PATH, pid, time0)"
   ],
   "metadata": {
    "collapsed": false,
    "pycharm": {
     "name": "#%%\n",
     "is_executing": true
    }
   }
  },
  {
   "cell_type": "markdown",
   "source": [
    "The data contains a `spikes` dataframe, that is size N spikes x N columns, with the following column names:"
   ],
   "metadata": {
    "collapsed": false
   }
  },
  {
   "cell_type": "code",
   "execution_count": null,
   "outputs": [],
   "source": [
    "print(data.spikes.shape)\n",
    "print(data.spikes.columns)"
   ],
   "metadata": {
    "collapsed": false,
    "pycharm": {
     "name": "#%%\n",
     "is_executing": true
    }
   }
  },
  {
   "cell_type": "markdown",
   "source": [
    "To get the brain region acronym for a spike, use the `acronym` column:"
   ],
   "metadata": {
    "collapsed": false
   }
  },
  {
   "cell_type": "code",
   "execution_count": null,
   "outputs": [],
   "source": [
    "i_spike = 2\n",
    "region = data.spikes.acronym.loc[i_spike]\n",
    "\n",
    "print(region)"
   ],
   "metadata": {
    "collapsed": false,
    "pycharm": {
     "name": "#%%\n",
     "is_executing": true
    }
   }
  },
  {
   "cell_type": "markdown",
   "source": [
    "The `trace` column contains the channel number of the spike:"
   ],
   "metadata": {
    "collapsed": false
   }
  },
  {
   "cell_type": "code",
   "execution_count": null,
   "outputs": [],
   "source": [
    "ch_ind = int(data.spikes['trace'].loc[2])\n",
    "print(ch_ind)"
   ],
   "metadata": {
    "collapsed": false,
    "pycharm": {
     "name": "#%%\n",
     "is_executing": true
    }
   }
  },
  {
   "cell_type": "markdown",
   "source": [
    "The actual waveforms traces are contained in `waveforms`, of shape N spikes x N samples X N channels:"
   ],
   "metadata": {
    "collapsed": false
   }
  },
  {
   "cell_type": "code",
   "execution_count": null,
   "outputs": [],
   "source": [
    "print(data.waveforms.shape)"
   ],
   "metadata": {
    "collapsed": false,
    "pycharm": {
     "name": "#%%\n",
     "is_executing": true
    }
   }
  },
  {
   "cell_type": "markdown",
   "source": [
    "Note: The waveforms are not in Volt, but in standardised unit."
   ],
   "metadata": {
    "collapsed": false
   }
  },
  {
   "cell_type": "markdown",
   "source": [
    "### Run an algorithm that computes the waveform features and explore them"
   ],
   "metadata": {
    "collapsed": false
   }
  },
  {
   "cell_type": "markdown",
   "source": [
    "Run the function `compute_spike_features` onto the waveforms to obtain a dataframe of waveform features:"
   ],
   "metadata": {
    "collapsed": false
   }
  },
  {
   "cell_type": "code",
   "execution_count": null,
   "outputs": [],
   "source": [
    "from neurodsp.waveforms import compute_spike_features\n",
    "df = compute_spike_features(data.waveforms)"
   ],
   "metadata": {
    "collapsed": false,
    "pycharm": {
     "name": "#%%\n",
     "is_executing": true
    }
   }
  },
  {
   "cell_type": "markdown",
   "source": [
    "This dataframe has the following columns:"
   ],
   "metadata": {
    "collapsed": false
   }
  },
  {
   "cell_type": "code",
   "execution_count": null,
   "outputs": [],
   "source": [
    "print(df.columns)"
   ],
   "metadata": {
    "collapsed": false,
    "pycharm": {
     "name": "#%%\n",
     "is_executing": true
    }
   }
  },
  {
   "cell_type": "markdown",
   "source": [
    "We add back in the brain acronym information from the spikes:"
   ],
   "metadata": {
    "collapsed": false
   }
  },
  {
   "cell_type": "code",
   "execution_count": null,
   "outputs": [],
   "source": [
    "df['acronym'] = data.spikes.acronym"
   ],
   "metadata": {
    "collapsed": false,
    "pycharm": {
     "name": "#%%\n",
     "is_executing": true
    }
   }
  },
  {
   "cell_type": "markdown",
   "source": [
    "To explore the different distributions, let's first chose one feature to explore (i.e. column of the dataframe - here the peak voltage value), and display the distribution per brain region.\n",
    "We will use pandas `groupby` to regroup the feature per brain region.\n",
    "We will use the Kernel Density Estimate plot type, to show the distribution curve. Note that the sum of this distribution is 1, which means we look at the data in a normalised way."
   ],
   "metadata": {
    "collapsed": false
   }
  },
  {
   "cell_type": "code",
   "execution_count": null,
   "outputs": [],
   "source": [
    "df.groupby('acronym')['peak_val'].plot(kind='kde')  # KDE: kernel density estimate\n",
    "# Add label on x-axis\n",
    "plt.xlabel('Peak val')  # Pandas uses matplotlib under the hood to plot\n",
    "# Add legends for the curves (acronyms)\n",
    "plt.legend(df.groupby('acronym').acronym.dtype.index.to_list(), title='Acronyms')"
   ],
   "metadata": {
    "collapsed": false,
    "pycharm": {
     "name": "#%%\n",
     "is_executing": true
    }
   }
  },
  {
   "cell_type": "markdown",
   "source": [
    "Note:\n",
    "- The distribution is largest in the negative values, indicating there is a larger proportion of negative spikes than positive.\n",
    "- The distribution will be bimodal by default (positive and negative values), with a sharp drop at zero - this is because the peak value is computed as the maximal amplitude value of a spike\n",
    "- Notice the red bump on the right: The region `P` seems to have (in proportion, remember the distribution is normalised) more large-amplitude positive spikes compared to other brain regions"
   ],
   "metadata": {
    "collapsed": false
   }
  },
  {
   "cell_type": "markdown",
   "source": [
    "You can also visualise the distribution using box plot. This gives an overall view of the values in a distribution - you can here notice that large amplitude positive spikes are not only found in `P` but also `PRNc`."
   ],
   "metadata": {
    "collapsed": false
   }
  },
  {
   "cell_type": "code",
   "execution_count": null,
   "outputs": [],
   "source": [
    "df.plot.box(column=\"peak_val\", by=\"acronym\")"
   ],
   "metadata": {
    "collapsed": false,
    "pycharm": {
     "name": "#%%\n",
     "is_executing": true
    }
   }
  },
  {
   "cell_type": "markdown",
   "source": [
    "To explore the extreme cases, we will create a smaller dataframe containing only the spikes whose *absolute* peak value is above 20."
   ],
   "metadata": {
    "collapsed": false
   }
  },
  {
   "cell_type": "code",
   "execution_count": null,
   "outputs": [],
   "source": [
    "df_extreme = df.loc[np.abs(df['peak_val']) > 20]"
   ],
   "metadata": {
    "collapsed": false,
    "pycharm": {
     "name": "#%%\n",
     "is_executing": true
    }
   }
  },
  {
   "cell_type": "markdown",
   "source": [
    "The index of that new dataframe are the row numbers taken from the previous dataframe `df` (i.e. waveform index), which will be useful when wanting to plot waveforms."
   ],
   "metadata": {
    "collapsed": false
   }
  },
  {
   "cell_type": "code",
   "execution_count": null,
   "outputs": [],
   "source": [
    "df_extreme.index[0:9]  # Plot the index for the first 10 extreme waveforms"
   ],
   "metadata": {
    "collapsed": false,
    "pycharm": {
     "name": "#%%\n",
     "is_executing": true
    }
   }
  },
  {
   "cell_type": "markdown",
   "source": [
    "### View the waveform data\n",
    "To visualise a given waveform you can call the dedicated viewephys GUI window:\n",
    "```\n",
    "# Instantiate viewephys\n",
    "ae = ViewSpikeModel(LOCAL_DATA_PATH, pid, time0)\n",
    "\n",
    "# Plotting just the pop-up window for a given spike\n",
    "ae.view_spike(iw=1583)\n",
    "```\n",
    "\n",
    "Or use the function :"
   ],
   "metadata": {
    "collapsed": false
   }
  },
  {
   "cell_type": "code",
   "execution_count": null,
   "outputs": [],
   "source": [
    "from neurodsp.waveforms import plot_peaktiptrough\n",
    "\n",
    "iw=1583\n",
    "fig, ax = plt.subplots(1, 1)\n",
    "plot_peaktiptrough(df, data.waveforms, ax=ax, nth_wav=iw)"
   ],
   "metadata": {
    "collapsed": false,
    "pycharm": {
     "name": "#%%\n",
     "is_executing": true
    }
   }
  },
  {
   "cell_type": "markdown",
   "source": [
    "### Further exercices\n",
    "\n",
    "#### Plot the largest waveforms (positive and negative)\n",
    "Find the (two) waveforms with the biggest positive and negative peak values. Using the `plot_peaktiptrough` function, display the waveforms on 2 subplots side by side, and save the picture. Write each of their brain region acronym in the corresponding subplot title.\n",
    "\n",
    "#### Explore the half-peak duration\n",
    "The half-peak duration can be a marker for certain cell type, e.g. Parvalbumin-expressing neurons tends to have narrow waveforms. Let's have a look at the distributions.\n",
    "\n",
    "Plot the KDE for the feature `half_peak_duration` for each brain region as shown above.\n",
    "- Can you explain why the curves have this oscillatory shape (reminder: the sampling frequency is 30000 Hz)?\n",
    "- Also, do you notice any difference between regions, e.g. for the region `MB`?"
   ],
   "metadata": {
    "collapsed": false,
    "pycharm": {
     "name": "#%% md\n"
    }
   }
  }
 ],
 "metadata": {
  "kernelspec": {
   "display_name": "Python 3",
   "language": "python",
   "name": "python3"
  },
  "language_info": {
   "codemirror_mode": {
    "name": "ipython",
    "version": 2
   },
   "file_extension": ".py",
   "mimetype": "text/x-python",
   "name": "python",
   "nbconvert_exporter": "python",
   "pygments_lexer": "ipython2",
   "version": "2.7.6"
  }
 },
 "nbformat": 4,
 "nbformat_minor": 0
}