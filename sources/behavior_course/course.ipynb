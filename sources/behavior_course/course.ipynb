{
 "cells": [
  {
   "cell_type": "markdown",
   "source": [
    "# Topic of the course\n",
    "\n",
    "In this practical course, you will explore the behavior of expert mice doing the IBL task. Mice perform the task one time a day, and we call this a behavioral training *session*.\n",
    "\n",
    "We will explore together some responses of the mice, and then you will select one of these projects:\n",
    "- Do male mice respond faster than female mice?\n",
    "- Does training at late time in the day impact on performance?\n",
    "\n",
    "# Introduction: What data will be used\n",
    "\n",
    "We will use three [pandas dataframes](https://pandas.pydata.org/docs/reference/api/pandas.DataFrame.html):\n",
    "- `df_subjects` that contains the information on the mouse, which we call subject, for example its name, its date of birth\n",
    "- `df_sessions` that contains the information on the behavioral sessions made by each subject, for example the start time of the session\n",
    "- `df_trials` that contains the information for each trials of the sessions, for example the time of the go cue\n",
    "\n",
    "These dataframes will contain the information of over 300+ sessions, for over 100+ mice.\n",
    "\n",
    "## Download the datasets\n",
    "Use this [script](../behavior_course/scripts/data_loading.py) to download the data. Set the `LOCAL_DATA_PATH` to a folder on your machine where you want the data downloaded.\n",
    "\n",
    "## Technical references\n",
    "Before starting the analysis, get familiar with :\n",
    "- [pandas dataframes](https://pandas.pydata.org/docs/reference/api/pandas.DataFrame.html)\n"
   ],
   "metadata": {
    "collapsed": false
   }
  },
  {
   "cell_type": "markdown",
   "source": [
    "# Step 1: Explore the data\n",
    "\n",
    "## Using the visualisation website\n",
    "\n",
    "You can view the session using the visualisation website, and scrolling down to the session overview page.\n",
    "You can write a mouse name in the search bar (note that one mouse may have several sessions).\n",
    "\n",
    "- We use here one [example session](https://viz.internationalbrainlab.org/app?dset=bwm&pid=53ecbf4f-e0d8-4fe6-a852-8b934a37a1c2&tid=0&cid=1399&qc=0) of subject `KS014`"
   ],
   "metadata": {
    "collapsed": false
   }
  },
  {
   "cell_type": "markdown",
   "source": [
    "![Viz webpage: session overview](../behavior_course/images/behaviour_overview_PID_53ecbf4f-e0d8-4fe6-a852-8b934a37a1c2.png)\n",
    "\n",
    "Do you notice that the mouse reaction time increases over the course of the session?"
   ],
   "metadata": {
    "collapsed": false
   }
  },
  {
   "cell_type": "markdown",
   "source": [
    "Further down the page, you can observe the timing between events (stim on, first move etc) at each trial; click on the left-image to see a particular trial of interest:"
   ],
   "metadata": {
    "collapsed": false
   }
  },
  {
   "cell_type": "markdown",
   "source": [
    "![Viz webpage: trial overview](../behavior_course/images/trial-0153.png)\n",
    "Look at the first 3 trials, and the last 3 trials during the session. Do you notice any difference?"
   ],
   "metadata": {
    "collapsed": false
   }
  },
  {
   "cell_type": "markdown",
   "source": [
    "You can also see the mouse performing the task in real time, and get a sense for how the task enfolds using the panel below ; you can click and drag the center view to explore the environment the mouse is behaving in."
   ],
   "metadata": {
    "collapsed": false
   }
  },
  {
   "cell_type": "markdown",
   "source": [
    "![Viz webpage: setup](../behavior_course/images/behavior_video.png)\n",
    "Look at the contrast on the screen, and pretend you are doing the task in your mind. Would you have been as fast as the mouse to react and place the stimulus in the center?"
   ],
   "metadata": {
    "collapsed": false
   }
  },
  {
   "cell_type": "markdown",
   "source": [
    "# Step 2: Select a project\n",
    "\n",
    "## Project 1: Do male mice respond faster than female mice?\n",
    "\n",
    "In this project, you will first:\n",
    "- Learn how to search the dataframes for male or female subjects\n",
    "- Learn how to compute reactions times, and navigate the dataframes with the example of the negative reaction times\n",
    "- Explore the trend of the reaction times across a session, by viewing the reaction times across trials, for an example session from either a female or male mice\n",
    "\n",
    "Then, you will be tasked to:\n",
    "- Visualise whether the reaction times across trials shows a different trend for female and male mice\n",
    "- Find a good epoch in the session, and a good metric, to perform the comparison. For example, per mouse, take the first N trials of the session, and compute the median reaction time over it. Compare the median reaction time for male versus female mile\n",
    "\n",
    "### Loading and visualising the data\n",
    "Use the pandas `read_parquet` function to load in each dataframe:\n"
   ],
   "metadata": {
    "collapsed": false
   }
  },
  {
   "cell_type": "code",
   "execution_count": 23,
   "outputs": [],
   "source": [
    "import pandas as pd\n",
    "from pathlib import Path\n",
    "import numpy as np\n",
    "\n",
    "LOCAL_PATH = Path('/Users/gaelle/Documents/Work/Course')\n",
    "\n",
    "# Load the data\n",
    "df_sess = pd.read_parquet(LOCAL_PATH.joinpath('sessions.pqt'))\n",
    "df_subj = pd.read_parquet(LOCAL_PATH.joinpath('subjects.pqt'))\n",
    "df_trial = pd.read_parquet(LOCAL_PATH.joinpath('trials.pqt'))"
   ],
   "metadata": {
    "collapsed": false,
    "ExecuteTime": {
     "end_time": "2023-07-18T13:04:20.973192Z",
     "start_time": "2023-07-18T13:04:20.836133Z"
    }
   }
  },
  {
   "cell_type": "markdown",
   "source": [
    "To know whether a mouse is male or female, look into the column `sex` of the `subjects` dataframe:"
   ],
   "metadata": {
    "collapsed": false
   }
  },
  {
   "cell_type": "code",
   "execution_count": 24,
   "outputs": [
    {
     "name": "stdout",
     "output_type": "stream",
     "text": [
      "Index(['subject', 'subj_id', 'birth_date', 'sex', 'lab'], dtype='object')\n",
      "['F' 'M']\n"
     ]
    }
   ],
   "source": [
    "print(df_subj.columns)\n",
    "# We print the unique values from the column sex:\n",
    "print(np.unique(df_subj['sex']))"
   ],
   "metadata": {
    "collapsed": false,
    "ExecuteTime": {
     "end_time": "2023-07-18T13:04:20.979820Z",
     "start_time": "2023-07-18T13:04:20.921594Z"
    }
   }
  },
  {
   "cell_type": "markdown",
   "source": [
    "To compute the reaction time, we will need to use the two variables from the `trials` dataframe:\n",
    "- the go cue time, found in the colum `goCue_times`\n",
    "- the response time, found in the column `response_times`\n",
    "\n",
    "These are the times (in second from the session start) at which the go cue was sent, and a response from the mouse was registered, respectively."
   ],
   "metadata": {
    "collapsed": false
   }
  },
  {
   "cell_type": "code",
   "execution_count": 25,
   "outputs": [
    {
     "name": "stdout",
     "output_type": "stream",
     "text": [
      "Index(['goCueTrigger_times', 'stimOff_times', 'goCue_times', 'response_times',\n",
      "       'choice', 'stimOn_times', 'contrastLeft', 'contrastRight',\n",
      "       'probabilityLeft', 'feedback_times', 'feedbackType', 'rewardVolume',\n",
      "       'firstMovement_times', 'intervals_0', 'intervals_1', 'eid'],\n",
      "      dtype='object')\n"
     ]
    }
   ],
   "source": [
    "print(df_trial.columns)\n",
    "\n",
    "df_trial['reaction_time'] = df_trial['response_times'] - df_trial['goCue_times']"
   ],
   "metadata": {
    "collapsed": false,
    "ExecuteTime": {
     "end_time": "2023-07-18T13:04:20.980445Z",
     "start_time": "2023-07-18T13:04:20.928806Z"
    }
   }
  },
  {
   "cell_type": "markdown",
   "source": [
    "We will now plot the distribution of reaction time (this is across all sessions and all mice). You can use either a histogram plot, or a kernel density estimate plot:"
   ],
   "metadata": {
    "collapsed": false
   }
  },
  {
   "cell_type": "code",
   "execution_count": 26,
   "outputs": [
    {
     "data": {
      "text/plain": "<Axes: >"
     },
     "execution_count": 26,
     "metadata": {},
     "output_type": "execute_result"
    },
    {
     "data": {
      "text/plain": "<Figure size 640x480 with 1 Axes>",
      "image/png": "[encoded data removed]"
     },
     "metadata": {},
     "output_type": "display_data"
    }
   ],
   "source": [
    "df_trial['reaction_time'].hist()"
   ],
   "metadata": {
    "collapsed": false,
    "ExecuteTime": {
     "end_time": "2023-07-18T13:04:21.178538Z",
     "start_time": "2023-07-18T13:04:20.962434Z"
    }
   }
  },
  {
   "cell_type": "code",
   "execution_count": 27,
   "outputs": [
    {
     "data": {
      "text/plain": "<Axes: ylabel='Density'>"
     },
     "execution_count": 27,
     "metadata": {},
     "output_type": "execute_result"
    },
    {
     "data": {
      "text/plain": "<Figure size 640x480 with 1 Axes>",
      "image/png": "[encoded data removed]"
     },
     "metadata": {},
     "output_type": "display_data"
    }
   ],
   "source": [
    "df_trial['reaction_time'].plot(kind='kde')"
   ],
   "metadata": {
    "collapsed": false,
    "ExecuteTime": {
     "end_time": "2023-07-18T13:04:23.264176Z",
     "start_time": "2023-07-18T13:04:21.180186Z"
    }
   }
  },
  {
   "cell_type": "markdown",
   "source": [
    "Did you notice that some reactions times are negative? This can be surprising at first, as this means the mouse made a response before the stimulus was even presented. Let's see how many trials with negative RTs there are:"
   ],
   "metadata": {
    "collapsed": false
   }
  },
  {
   "cell_type": "code",
   "execution_count": 28,
   "outputs": [
    {
     "name": "stdout",
     "output_type": "stream",
     "text": [
      "575\n"
     ]
    }
   ],
   "source": [
    "df_trial_neg_rt = df_trial[df_trial['reaction_time'] < 0]\n",
    "print(len(df_trial_neg_rt))"
   ],
   "metadata": {
    "collapsed": false,
    "ExecuteTime": {
     "end_time": "2023-07-18T13:04:23.335106Z",
     "start_time": "2023-07-18T13:04:23.266237Z"
    }
   }
  },
  {
   "cell_type": "markdown",
   "source": [
    "Let's see if negative reaction times occur in both male and female mice.\n",
    "First, we need to join the trials and subjects table through the sessions table, to later be able to group by the reaction time values by sex type:"
   ],
   "metadata": {
    "collapsed": false
   }
  },
  {
   "cell_type": "code",
   "execution_count": 29,
   "outputs": [
    {
     "name": "stdout",
     "output_type": "stream",
     "text": [
      "Index(['goCueTrigger_times', 'stimOff_times', 'goCue_times', 'response_times',\n",
      "       'choice', 'stimOn_times', 'contrastLeft', 'contrastRight',\n",
      "       'probabilityLeft', 'feedback_times', 'feedbackType', 'rewardVolume',\n",
      "       'firstMovement_times', 'intervals_0', 'intervals_1', 'eid',\n",
      "       'reaction_time', 'sex'],\n",
      "      dtype='object')\n"
     ]
    }
   ],
   "source": [
    "# Merge\n",
    "df_sess = df_sess.merge(df_subj[['subject', 'sex']], on='subject')\n",
    "df_trial_neg_rt = df_trial_neg_rt.merge(df_sess[['eid', 'sex']], on='eid')\n",
    "\n",
    "print(df_trial_neg_rt.columns)  # Notice we added in the 'sex' column"
   ],
   "metadata": {
    "collapsed": false,
    "ExecuteTime": {
     "end_time": "2023-07-18T13:04:23.335872Z",
     "start_time": "2023-07-18T13:04:23.319156Z"
    }
   }
  },
  {
   "cell_type": "code",
   "execution_count": 30,
   "outputs": [
    {
     "data": {
      "text/plain": "sex\nF    560\nM     15\nName: reaction_time, dtype: int64"
     },
     "execution_count": 30,
     "metadata": {},
     "output_type": "execute_result"
    }
   ],
   "source": [
    "df_trial_neg_rt.groupby('sex')['reaction_time'].count()"
   ],
   "metadata": {
    "collapsed": false,
    "ExecuteTime": {
     "end_time": "2023-07-18T13:04:23.346920Z",
     "start_time": "2023-07-18T13:04:23.333015Z"
    }
   }
  },
  {
   "cell_type": "markdown",
   "source": [
    "There seems to be more negative reaction time in female mice when displaying just this number, however you have to take into account the proportion of female versus male mice (i.e. we may have many more females than males to begin with).\n",
    " - Can you find out how many trials there are for female and male mice?\n",
    "  - And the proportion of trials done by female compared to male mice?\n",
    "    - Would this proportion explain the difference with see here with negative reaction time?"
   ],
   "metadata": {
    "collapsed": false
   }
  },
  {
   "cell_type": "markdown",
   "source": [
    "Let's see if negative reaction times occur at the end of beginning of the session:"
   ],
   "metadata": {
    "collapsed": false
   }
  },
  {
   "cell_type": "markdown",
   "source": [
    "## Project 2: Does training at late time in the day impact on performance?"
   ],
   "metadata": {
    "collapsed": false
   }
  }
 ],
 "metadata": {
  "kernelspec": {
   "display_name": "Python 3",
   "language": "python",
   "name": "python3"
  },
  "language_info": {
   "codemirror_mode": {
    "name": "ipython",
    "version": 2
   },
   "file_extension": ".py",
   "mimetype": "text/x-python",
   "name": "python",
   "nbconvert_exporter": "python",
   "pygments_lexer": "ipython2",
   "version": "2.7.6"
  }
 },
 "nbformat": 4,
 "nbformat_minor": 0
}
