{
 "cells": [
  {
   "cell_type": "markdown",
   "source": [
    "# Topic of the course\n",
    "\n",
    "In this practical course, you will explore the behavior of expert mice doing the IBL task. Mice perform the task one time a day, and we call this a behavioral training *session*.\n",
    "\n",
    "We will explore together some responses of the mice, and then you will select one of these projects:\n",
    "- Do male mice respond faster than female mice?\n",
    "- Does training at late time in the day impact on performance?\n",
    "\n",
    "# Introduction: What data will be used\n",
    "\n",
    "We will use three [pandas dataframes](https://pandas.pydata.org/docs/reference/api/pandas.DataFrame.html):\n",
    "- `df_subjects` that contains the information on the mouse, which we call subject, for example its name, its date of birth\n",
    "- `df_sessions` that contains the information on the behavioral sessions made by each subject, for example the start time of the session\n",
    "- `df_trials` that contains the information for each trials of the sessions, for example the time of the go cue\n",
    "\n",
    "These dataframes will contain the information of over 300+ sessions, for over 100+ mice.\n",
    "\n",
    "## Download the datasets\n",
    "Use this [script](../behavior_course/scripts/data_loading.py) to download the data. Set the `LOCAL_DATA_PATH` to a folder on your machine where you want the data downloaded.\n",
    "\n",
    "## Technical references\n",
    "Before starting the analysis, get familiar with :\n",
    "- [pandas dataframes](https://pandas.pydata.org/docs/reference/api/pandas.DataFrame.html)\n"
   ],
   "metadata": {
    "collapsed": false
   }
  },
  {
   "cell_type": "markdown",
   "source": [
    "# Step 1: Explore the data\n",
    "\n",
    "## Using the visualisation website\n",
    "\n",
    "You can view the session using the visualisation website, and scrolling down to the session overview page.\n",
    "You can write a mouse name in the search bar (note that one mouse may have several sessions).\n",
    "\n",
    "- We use here one [example session](https://viz.internationalbrainlab.org/app?dset=bwm&pid=53ecbf4f-e0d8-4fe6-a852-8b934a37a1c2&tid=0&cid=1399&qc=0) of subject `KS014`"
   ],
   "metadata": {
    "collapsed": false
   }
  },
  {
   "cell_type": "markdown",
   "source": [
    "![Viz webpage: session overview](../behavior_course/images/behaviour_overview_PID_53ecbf4f-e0d8-4fe6-a852-8b934a37a1c2.png)\n",
    "\n",
    "Do you notice that the mouse reaction time increases over the course of the session?"
   ],
   "metadata": {
    "collapsed": false
   }
  },
  {
   "cell_type": "markdown",
   "source": [
    "Further down the page, you can observe the timing between events (stim on, first move etc) at each trial; click on the left-image to see a particular trial of interest:"
   ],
   "metadata": {
    "collapsed": false
   }
  },
  {
   "cell_type": "markdown",
   "source": [
    "![Viz webpage: trial overview](../behavior_course/images/trial-0153.png)\n",
    "Look at the first 3 trials, and the last 3 trials during the session. Do you notice any difference?"
   ],
   "metadata": {
    "collapsed": false
   }
  },
  {
   "cell_type": "markdown",
   "source": [
    "You can also see the mouse performing the task in real time, and get a sense for how the task enfolds using the panel below ; you can click and drag the center view to explore the environment the mouse is behaving in."
   ],
   "metadata": {
    "collapsed": false
   }
  },
  {
   "cell_type": "markdown",
   "source": [
    "![Viz webpage: setup](../behavior_course/images/behavior_video.png)\n",
    "Look at the contrast on the screen, and pretend you are doing the task in your mind. Would you have been as fast as the mouse to react and place the stimulus in the center?"
   ],
   "metadata": {
    "collapsed": false
   }
  },
  {
   "cell_type": "markdown",
   "source": [
    "## Exploring the dataframes\n",
    "Below, we will explain:\n",
    "- How to load the dataframes\n",
    "- What information is contained in each dataframe\n",
    "- How to add new information in a dataframe\n",
    "- How to merge information across dataframes\n",
    "- How to get summary statistics\n",
    "- How to generate plots"
   ],
   "metadata": {
    "collapsed": false
   }
  },
  {
   "cell_type": "markdown",
   "source": [
    "### Loading the dataframes and navigating their structure\n",
    "Use the pandas `read_parquet` function to load in the following dataframes:"
   ],
   "metadata": {
    "collapsed": false
   }
  },
  {
   "cell_type": "code",
   "execution_count": 178,
   "outputs": [],
   "source": [
    "import pandas as pd\n",
    "from pathlib import Path\n",
    "\n",
    "LOCAL_PATH = Path('/Users/gaelle/Documents/Work/Course')\n",
    "\n",
    "df_sess = pd.read_parquet(LOCAL_PATH.joinpath('sessions.pqt'))\n",
    "df_subj = pd.read_parquet(LOCAL_PATH.joinpath('subjects.pqt'))\n",
    "df_trial = pd.read_parquet(LOCAL_PATH.joinpath('trials.pqt'))"
   ],
   "metadata": {
    "collapsed": false,
    "ExecuteTime": {
     "end_time": "2023-07-26T16:06:17.935814Z",
     "start_time": "2023-07-26T16:06:16.921028Z"
    }
   }
  },
  {
   "cell_type": "markdown",
   "source": [
    "Each dataframe contains a different kind of information:\n",
    "- `df_sess`: each row contains the information on a session, e.g. its start time and date\n",
    "- `ds_subj`: each row contains the information on a subject, e.g. its name or sex\n",
    "- `ds_trial`: each row contain the information on a trial (of a particular session), e.g. whether the response was correct or incorrect on that trial\n",
    "\n",
    "Below we display the first 3 rows for each dataframe:"
   ],
   "metadata": {
    "collapsed": false
   }
  },
  {
   "cell_type": "code",
   "execution_count": 179,
   "outputs": [
    {
     "data": {
      "text/plain": "                                    eid  subject            lab  \\\n0  034e726f-b35f-41e0-8d6c-a22cc32391fb  CSHL045  churchlandlab   \n1  dfd8e7df-dc51-4589-b6ca-7baccfeb94b4  CSHL045  churchlandlab   \n2  fa704052-147e-46f6-b190-a65b837e605e  CSHL045  churchlandlab   \n\n                         task_protocol           date_time  \\\n0  _iblrig_tasks_ephysChoiceWorld6.2.5 2020-02-24 14:41:02   \n1  _iblrig_tasks_ephysChoiceWorld6.2.5 2020-02-25 09:53:24   \n2  _iblrig_tasks_ephysChoiceWorld6.2.5 2020-02-26 14:48:55   \n\n                                subj_id  \n0  b04fd8a4-1ba4-4bc2-9593-238386281a6c  \n1  b04fd8a4-1ba4-4bc2-9593-238386281a6c  \n2  b04fd8a4-1ba4-4bc2-9593-238386281a6c  ",
      "text/html": "<div>\n<style scoped>\n    .dataframe tbody tr th:only-of-type {\n        vertical-align: middle;\n    }\n\n    .dataframe tbody tr th {\n        vertical-align: top;\n    }\n\n    .dataframe thead th {\n        text-align: right;\n    }\n</style>\n<table border=\"1\" class=\"dataframe\">\n  <thead>\n    <tr style=\"text-align: right;\">\n      <th></th>\n      <th>eid</th>\n      <th>subject</th>\n      <th>lab</th>\n      <th>task_protocol</th>\n      <th>date_time</th>\n      <th>subj_id</th>\n    </tr>\n  </thead>\n  <tbody>\n    <tr>\n      <th>0</th>\n      <td>034e726f-b35f-41e0-8d6c-a22cc32391fb</td>\n      <td>CSHL045</td>\n      <td>churchlandlab</td>\n      <td>_iblrig_tasks_ephysChoiceWorld6.2.5</td>\n      <td>2020-02-24 14:41:02</td>\n      <td>b04fd8a4-1ba4-4bc2-9593-238386281a6c</td>\n    </tr>\n    <tr>\n      <th>1</th>\n      <td>dfd8e7df-dc51-4589-b6ca-7baccfeb94b4</td>\n      <td>CSHL045</td>\n      <td>churchlandlab</td>\n      <td>_iblrig_tasks_ephysChoiceWorld6.2.5</td>\n      <td>2020-02-25 09:53:24</td>\n      <td>b04fd8a4-1ba4-4bc2-9593-238386281a6c</td>\n    </tr>\n    <tr>\n      <th>2</th>\n      <td>fa704052-147e-46f6-b190-a65b837e605e</td>\n      <td>CSHL045</td>\n      <td>churchlandlab</td>\n      <td>_iblrig_tasks_ephysChoiceWorld6.2.5</td>\n      <td>2020-02-26 14:48:55</td>\n      <td>b04fd8a4-1ba4-4bc2-9593-238386281a6c</td>\n    </tr>\n  </tbody>\n</table>\n</div>"
     },
     "metadata": {},
     "output_type": "display_data"
    }
   ],
   "source": [
    "display(df_sess.head(3))"
   ],
   "metadata": {
    "collapsed": false,
    "ExecuteTime": {
     "end_time": "2023-07-26T16:06:17.945898Z",
     "start_time": "2023-07-26T16:06:16.992367Z"
    }
   }
  },
  {
   "cell_type": "code",
   "execution_count": 180,
   "outputs": [
    {
     "data": {
      "text/plain": "   subject                               subj_id  birth_date sex  \\\n0  CSHL045  b04fd8a4-1ba4-4bc2-9593-238386281a6c  2019-08-06   M   \n1  CSHL047  15f98ab5-20d8-4345-a5de-21912a39575f  2019-08-06   M   \n2  CSHL049  9bebfe0b-082e-4d66-aca7-fae29317f708  2019-08-06   M   \n\n             lab  \n0  churchlandlab  \n1  churchlandlab  \n2  churchlandlab  ",
      "text/html": "<div>\n<style scoped>\n    .dataframe tbody tr th:only-of-type {\n        vertical-align: middle;\n    }\n\n    .dataframe tbody tr th {\n        vertical-align: top;\n    }\n\n    .dataframe thead th {\n        text-align: right;\n    }\n</style>\n<table border=\"1\" class=\"dataframe\">\n  <thead>\n    <tr style=\"text-align: right;\">\n      <th></th>\n      <th>subject</th>\n      <th>subj_id</th>\n      <th>birth_date</th>\n      <th>sex</th>\n      <th>lab</th>\n    </tr>\n  </thead>\n  <tbody>\n    <tr>\n      <th>0</th>\n      <td>CSHL045</td>\n      <td>b04fd8a4-1ba4-4bc2-9593-238386281a6c</td>\n      <td>2019-08-06</td>\n      <td>M</td>\n      <td>churchlandlab</td>\n    </tr>\n    <tr>\n      <th>1</th>\n      <td>CSHL047</td>\n      <td>15f98ab5-20d8-4345-a5de-21912a39575f</td>\n      <td>2019-08-06</td>\n      <td>M</td>\n      <td>churchlandlab</td>\n    </tr>\n    <tr>\n      <th>2</th>\n      <td>CSHL049</td>\n      <td>9bebfe0b-082e-4d66-aca7-fae29317f708</td>\n      <td>2019-08-06</td>\n      <td>M</td>\n      <td>churchlandlab</td>\n    </tr>\n  </tbody>\n</table>\n</div>"
     },
     "metadata": {},
     "output_type": "display_data"
    }
   ],
   "source": [
    "display(df_subj.head(3))"
   ],
   "metadata": {
    "collapsed": false,
    "ExecuteTime": {
     "end_time": "2023-07-26T16:06:17.948823Z",
     "start_time": "2023-07-26T16:06:17.001268Z"
    }
   }
  },
  {
   "cell_type": "code",
   "execution_count": 181,
   "outputs": [
    {
     "data": {
      "text/plain": "   goCueTrigger_times  stimOff_times  goCue_times  response_times  choice  \\\n0          117.456930     118.805552   117.457586       117.75133     1.0   \n1          127.268840     128.671932   127.269772       127.61124     1.0   \n2          131.702041     133.068359   131.703362       132.00624     1.0   \n\n   stimOn_times  contrastLeft  contrastRight  probabilityLeft  feedback_times  \\\n0    117.555543         1.000            NaN              0.5      117.751457   \n1    127.268639         0.125            NaN              0.5      127.611338   \n2    131.701895         1.000            NaN              0.5      132.006365   \n\n   feedbackType  rewardVolume  firstMovement_times  intervals_0  intervals_1  \\\n0           1.0           1.5           117.641626   116.695529   119.305634   \n1           1.0           1.5           127.492626   119.997332   129.171944   \n2           1.0           1.5           131.802626   129.895043   133.568441   \n\n                                    eid  trial_number  \n0  ae8787b1-4229-4d56-b0c2-566b61a25b77             0  \n1  ae8787b1-4229-4d56-b0c2-566b61a25b77             1  \n2  ae8787b1-4229-4d56-b0c2-566b61a25b77             2  ",
      "text/html": "<div>\n<style scoped>\n    .dataframe tbody tr th:only-of-type {\n        vertical-align: middle;\n    }\n\n    .dataframe tbody tr th {\n        vertical-align: top;\n    }\n\n    .dataframe thead th {\n        text-align: right;\n    }\n</style>\n<table border=\"1\" class=\"dataframe\">\n  <thead>\n    <tr style=\"text-align: right;\">\n      <th></th>\n      <th>goCueTrigger_times</th>\n      <th>stimOff_times</th>\n      <th>goCue_times</th>\n      <th>response_times</th>\n      <th>choice</th>\n      <th>stimOn_times</th>\n      <th>contrastLeft</th>\n      <th>contrastRight</th>\n      <th>probabilityLeft</th>\n      <th>feedback_times</th>\n      <th>feedbackType</th>\n      <th>rewardVolume</th>\n      <th>firstMovement_times</th>\n      <th>intervals_0</th>\n      <th>intervals_1</th>\n      <th>eid</th>\n      <th>trial_number</th>\n    </tr>\n  </thead>\n  <tbody>\n    <tr>\n      <th>0</th>\n      <td>117.456930</td>\n      <td>118.805552</td>\n      <td>117.457586</td>\n      <td>117.75133</td>\n      <td>1.0</td>\n      <td>117.555543</td>\n      <td>1.000</td>\n      <td>NaN</td>\n      <td>0.5</td>\n      <td>117.751457</td>\n      <td>1.0</td>\n      <td>1.5</td>\n      <td>117.641626</td>\n      <td>116.695529</td>\n      <td>119.305634</td>\n      <td>ae8787b1-4229-4d56-b0c2-566b61a25b77</td>\n      <td>0</td>\n    </tr>\n    <tr>\n      <th>1</th>\n      <td>127.268840</td>\n      <td>128.671932</td>\n      <td>127.269772</td>\n      <td>127.61124</td>\n      <td>1.0</td>\n      <td>127.268639</td>\n      <td>0.125</td>\n      <td>NaN</td>\n      <td>0.5</td>\n      <td>127.611338</td>\n      <td>1.0</td>\n      <td>1.5</td>\n      <td>127.492626</td>\n      <td>119.997332</td>\n      <td>129.171944</td>\n      <td>ae8787b1-4229-4d56-b0c2-566b61a25b77</td>\n      <td>1</td>\n    </tr>\n    <tr>\n      <th>2</th>\n      <td>131.702041</td>\n      <td>133.068359</td>\n      <td>131.703362</td>\n      <td>132.00624</td>\n      <td>1.0</td>\n      <td>131.701895</td>\n      <td>1.000</td>\n      <td>NaN</td>\n      <td>0.5</td>\n      <td>132.006365</td>\n      <td>1.0</td>\n      <td>1.5</td>\n      <td>131.802626</td>\n      <td>129.895043</td>\n      <td>133.568441</td>\n      <td>ae8787b1-4229-4d56-b0c2-566b61a25b77</td>\n      <td>2</td>\n    </tr>\n  </tbody>\n</table>\n</div>"
     },
     "metadata": {},
     "output_type": "display_data"
    }
   ],
   "source": [
    "display(df_trial.head(3))"
   ],
   "metadata": {
    "collapsed": false,
    "ExecuteTime": {
     "end_time": "2023-07-26T16:06:17.972229Z",
     "start_time": "2023-07-26T16:06:17.017943Z"
    }
   }
  },
  {
   "cell_type": "markdown",
   "source": [
    "### Adding new columns in the dataframe\n",
    "You can easily add in new columns which are arithmetic combination of already existing columns.\n",
    "For example, we will compute the reaction time per trial, and add it as a new column in the `df_trial`:"
   ],
   "metadata": {
    "collapsed": false
   }
  },
  {
   "cell_type": "code",
   "execution_count": 182,
   "outputs": [],
   "source": [
    "df_trial['reaction_time'] = df_trial['response_times'] - df_trial['goCue_times']"
   ],
   "metadata": {
    "collapsed": false,
    "ExecuteTime": {
     "end_time": "2023-07-26T16:06:17.980287Z",
     "start_time": "2023-07-26T16:06:17.023999Z"
    }
   }
  },
  {
   "cell_type": "markdown",
   "source": [
    "Scroll to the right of the dataframe, and you can see a new column `reaction_time` was added:"
   ],
   "metadata": {
    "collapsed": false
   }
  },
  {
   "cell_type": "code",
   "execution_count": 183,
   "outputs": [
    {
     "data": {
      "text/plain": "   goCueTrigger_times  stimOff_times  goCue_times  response_times  choice  \\\n0          117.456930     118.805552   117.457586       117.75133     1.0   \n1          127.268840     128.671932   127.269772       127.61124     1.0   \n2          131.702041     133.068359   131.703362       132.00624     1.0   \n\n   stimOn_times  contrastLeft  contrastRight  probabilityLeft  feedback_times  \\\n0    117.555543         1.000            NaN              0.5      117.751457   \n1    127.268639         0.125            NaN              0.5      127.611338   \n2    131.701895         1.000            NaN              0.5      132.006365   \n\n   feedbackType  rewardVolume  firstMovement_times  intervals_0  intervals_1  \\\n0           1.0           1.5           117.641626   116.695529   119.305634   \n1           1.0           1.5           127.492626   119.997332   129.171944   \n2           1.0           1.5           131.802626   129.895043   133.568441   \n\n                                    eid  trial_number  reaction_time  \n0  ae8787b1-4229-4d56-b0c2-566b61a25b77             0       0.293744  \n1  ae8787b1-4229-4d56-b0c2-566b61a25b77             1       0.341468  \n2  ae8787b1-4229-4d56-b0c2-566b61a25b77             2       0.302879  ",
      "text/html": "<div>\n<style scoped>\n    .dataframe tbody tr th:only-of-type {\n        vertical-align: middle;\n    }\n\n    .dataframe tbody tr th {\n        vertical-align: top;\n    }\n\n    .dataframe thead th {\n        text-align: right;\n    }\n</style>\n<table border=\"1\" class=\"dataframe\">\n  <thead>\n    <tr style=\"text-align: right;\">\n      <th></th>\n      <th>goCueTrigger_times</th>\n      <th>stimOff_times</th>\n      <th>goCue_times</th>\n      <th>response_times</th>\n      <th>choice</th>\n      <th>stimOn_times</th>\n      <th>contrastLeft</th>\n      <th>contrastRight</th>\n      <th>probabilityLeft</th>\n      <th>feedback_times</th>\n      <th>feedbackType</th>\n      <th>rewardVolume</th>\n      <th>firstMovement_times</th>\n      <th>intervals_0</th>\n      <th>intervals_1</th>\n      <th>eid</th>\n      <th>trial_number</th>\n      <th>reaction_time</th>\n    </tr>\n  </thead>\n  <tbody>\n    <tr>\n      <th>0</th>\n      <td>117.456930</td>\n      <td>118.805552</td>\n      <td>117.457586</td>\n      <td>117.75133</td>\n      <td>1.0</td>\n      <td>117.555543</td>\n      <td>1.000</td>\n      <td>NaN</td>\n      <td>0.5</td>\n      <td>117.751457</td>\n      <td>1.0</td>\n      <td>1.5</td>\n      <td>117.641626</td>\n      <td>116.695529</td>\n      <td>119.305634</td>\n      <td>ae8787b1-4229-4d56-b0c2-566b61a25b77</td>\n      <td>0</td>\n      <td>0.293744</td>\n    </tr>\n    <tr>\n      <th>1</th>\n      <td>127.268840</td>\n      <td>128.671932</td>\n      <td>127.269772</td>\n      <td>127.61124</td>\n      <td>1.0</td>\n      <td>127.268639</td>\n      <td>0.125</td>\n      <td>NaN</td>\n      <td>0.5</td>\n      <td>127.611338</td>\n      <td>1.0</td>\n      <td>1.5</td>\n      <td>127.492626</td>\n      <td>119.997332</td>\n      <td>129.171944</td>\n      <td>ae8787b1-4229-4d56-b0c2-566b61a25b77</td>\n      <td>1</td>\n      <td>0.341468</td>\n    </tr>\n    <tr>\n      <th>2</th>\n      <td>131.702041</td>\n      <td>133.068359</td>\n      <td>131.703362</td>\n      <td>132.00624</td>\n      <td>1.0</td>\n      <td>131.701895</td>\n      <td>1.000</td>\n      <td>NaN</td>\n      <td>0.5</td>\n      <td>132.006365</td>\n      <td>1.0</td>\n      <td>1.5</td>\n      <td>131.802626</td>\n      <td>129.895043</td>\n      <td>133.568441</td>\n      <td>ae8787b1-4229-4d56-b0c2-566b61a25b77</td>\n      <td>2</td>\n      <td>0.302879</td>\n    </tr>\n  </tbody>\n</table>\n</div>"
     },
     "metadata": {},
     "output_type": "display_data"
    }
   ],
   "source": [
    "display(df_trial.head(3))"
   ],
   "metadata": {
    "collapsed": false,
    "ExecuteTime": {
     "end_time": "2023-07-26T16:06:17.983411Z",
     "start_time": "2023-07-26T16:06:17.039914Z"
    }
   }
  },
  {
   "cell_type": "markdown",
   "source": [
    "### Merging the dataframes\n",
    "Imagine you need to know for each trial whether the mouse was male or female. This is not an information you readily have in the `df_trial`. But it is information you can retrieve through the other dataframes, in the case of this example:\n",
    "\n",
    "- Each row in `df_trial` contains the session unique identified `eid`\n",
    "- Each row in `df_sess` contains the session identified `eid` and the subject identifier `subj_id`\n",
    "- Each row in `df_subj` contains the subject identifier `subj_id` and `sex`.\n",
    "\n",
    "You thus can propagate the information contained in the subject table to the trial table, adding the column `sex` for each row of the trial table.\n",
    "\n",
    "To do such kind of propagation, you need to:\n",
    "- know which columns are similar across the dataframes\n",
    "- use the pandas function `merge`\n",
    "\n",
    "To know which columns are identical, use the `isin` function on columns:\n",
    "`df1.columns[df1.columns.isin(df2.columns)]`"
   ],
   "metadata": {
    "collapsed": false
   }
  },
  {
   "cell_type": "code",
   "execution_count": 184,
   "outputs": [
    {
     "name": "stdout",
     "output_type": "stream",
     "text": [
      "Similar column df_trial / df_sess : Index(['eid'], dtype='object')\n",
      "Similar column df_subj / df_sess : Index(['subject', 'subj_id', 'lab'], dtype='object')\n"
     ]
    }
   ],
   "source": [
    "print(f'Similar column df_trial / df_sess : {df_trial.columns[df_trial.columns.isin(df_sess.columns)]}')\n",
    "print(f'Similar column df_subj / df_sess : {df_subj.columns[df_subj.columns.isin(df_sess.columns)]}')"
   ],
   "metadata": {
    "collapsed": false,
    "ExecuteTime": {
     "end_time": "2023-07-26T16:06:17.983593Z",
     "start_time": "2023-07-26T16:06:17.047468Z"
    }
   }
  },
  {
   "cell_type": "markdown",
   "source": [
    "The columns that are similar between dataframes are the following:\n",
    "- `df_subj` and `df_sess` have the common columns:\n",
    "    - `subject`\n",
    "    - `lab`\n",
    "    - `subj_id`: Note that it is better to use the `subj_id` for merging, as it is the subject's unique identifier. Indeed, a mouse can have the same `subject` name in `lab` A or B.\n",
    "- `df_sess` and `df_trials` have the common column:\n",
    "    - `eid`, which is the session's unique identifier.\n",
    "\n",
    "To merge information across dataframes, use `merge` and specificy the `on` column:\n",
    "\n",
    "If wanting to merge all columns:\n",
    "`df1 = df1.merge(df2, on='col_merge')`\n",
    "\n",
    "If wanting to merge only specific columns:\n",
    "`df1 = df1.merge(df2[['col_merge', 'col_add_1', 'col_add_2']], on='col_merge')`\n",
    "--> Notice the use of `[ ]` to generate a list of column names\n",
    "\n",
    "\n",
    "To propagate the column `sex` in our example, we need to merge two times:"
   ],
   "metadata": {
    "collapsed": false
   }
  },
  {
   "cell_type": "code",
   "execution_count": 185,
   "outputs": [],
   "source": [
    "# Merge\n",
    "df_sess = df_sess.merge(df_subj[['subj_id', 'sex']], on='subj_id') # Add [sex] column into the session based on the subject id\n",
    "df_trial = df_trial.merge(df_sess[['eid', 'sex']], on='eid') # Add [sex] column into the trial based on the session eid\n",
    "\n",
    "# Note: We only want to add the 'sex' column to the dataframe, by merging based on the subj_id or eid.\n",
    "# So we select just the two columns (the one to propagate [sex] and the one to merge on [subj_id] or [eid]) from the dataframe of interest when merging."
   ],
   "metadata": {
    "collapsed": false,
    "ExecuteTime": {
     "end_time": "2023-07-26T16:06:18.030061Z",
     "start_time": "2023-07-26T16:06:17.051043Z"
    }
   }
  },
  {
   "cell_type": "markdown",
   "source": [
    "Look again at the trials dataframe (towards the far right), there is a new column `sex`:"
   ],
   "metadata": {
    "collapsed": false
   }
  },
  {
   "cell_type": "code",
   "execution_count": 186,
   "outputs": [
    {
     "data": {
      "text/plain": "   goCueTrigger_times  stimOff_times  goCue_times  response_times  choice  \\\n0          117.456930     118.805552   117.457586       117.75133     1.0   \n1          127.268840     128.671932   127.269772       127.61124     1.0   \n2          131.702041     133.068359   131.703362       132.00624     1.0   \n\n   stimOn_times  contrastLeft  contrastRight  probabilityLeft  feedback_times  \\\n0    117.555543         1.000            NaN              0.5      117.751457   \n1    127.268639         0.125            NaN              0.5      127.611338   \n2    131.701895         1.000            NaN              0.5      132.006365   \n\n   feedbackType  rewardVolume  firstMovement_times  intervals_0  intervals_1  \\\n0           1.0           1.5           117.641626   116.695529   119.305634   \n1           1.0           1.5           127.492626   119.997332   129.171944   \n2           1.0           1.5           131.802626   129.895043   133.568441   \n\n                                    eid  trial_number  reaction_time sex  \n0  ae8787b1-4229-4d56-b0c2-566b61a25b77             0       0.293744   M  \n1  ae8787b1-4229-4d56-b0c2-566b61a25b77             1       0.341468   M  \n2  ae8787b1-4229-4d56-b0c2-566b61a25b77             2       0.302879   M  ",
      "text/html": "<div>\n<style scoped>\n    .dataframe tbody tr th:only-of-type {\n        vertical-align: middle;\n    }\n\n    .dataframe tbody tr th {\n        vertical-align: top;\n    }\n\n    .dataframe thead th {\n        text-align: right;\n    }\n</style>\n<table border=\"1\" class=\"dataframe\">\n  <thead>\n    <tr style=\"text-align: right;\">\n      <th></th>\n      <th>goCueTrigger_times</th>\n      <th>stimOff_times</th>\n      <th>goCue_times</th>\n      <th>response_times</th>\n      <th>choice</th>\n      <th>stimOn_times</th>\n      <th>contrastLeft</th>\n      <th>contrastRight</th>\n      <th>probabilityLeft</th>\n      <th>feedback_times</th>\n      <th>feedbackType</th>\n      <th>rewardVolume</th>\n      <th>firstMovement_times</th>\n      <th>intervals_0</th>\n      <th>intervals_1</th>\n      <th>eid</th>\n      <th>trial_number</th>\n      <th>reaction_time</th>\n      <th>sex</th>\n    </tr>\n  </thead>\n  <tbody>\n    <tr>\n      <th>0</th>\n      <td>117.456930</td>\n      <td>118.805552</td>\n      <td>117.457586</td>\n      <td>117.75133</td>\n      <td>1.0</td>\n      <td>117.555543</td>\n      <td>1.000</td>\n      <td>NaN</td>\n      <td>0.5</td>\n      <td>117.751457</td>\n      <td>1.0</td>\n      <td>1.5</td>\n      <td>117.641626</td>\n      <td>116.695529</td>\n      <td>119.305634</td>\n      <td>ae8787b1-4229-4d56-b0c2-566b61a25b77</td>\n      <td>0</td>\n      <td>0.293744</td>\n      <td>M</td>\n    </tr>\n    <tr>\n      <th>1</th>\n      <td>127.268840</td>\n      <td>128.671932</td>\n      <td>127.269772</td>\n      <td>127.61124</td>\n      <td>1.0</td>\n      <td>127.268639</td>\n      <td>0.125</td>\n      <td>NaN</td>\n      <td>0.5</td>\n      <td>127.611338</td>\n      <td>1.0</td>\n      <td>1.5</td>\n      <td>127.492626</td>\n      <td>119.997332</td>\n      <td>129.171944</td>\n      <td>ae8787b1-4229-4d56-b0c2-566b61a25b77</td>\n      <td>1</td>\n      <td>0.341468</td>\n      <td>M</td>\n    </tr>\n    <tr>\n      <th>2</th>\n      <td>131.702041</td>\n      <td>133.068359</td>\n      <td>131.703362</td>\n      <td>132.00624</td>\n      <td>1.0</td>\n      <td>131.701895</td>\n      <td>1.000</td>\n      <td>NaN</td>\n      <td>0.5</td>\n      <td>132.006365</td>\n      <td>1.0</td>\n      <td>1.5</td>\n      <td>131.802626</td>\n      <td>129.895043</td>\n      <td>133.568441</td>\n      <td>ae8787b1-4229-4d56-b0c2-566b61a25b77</td>\n      <td>2</td>\n      <td>0.302879</td>\n      <td>M</td>\n    </tr>\n  </tbody>\n</table>\n</div>"
     },
     "metadata": {},
     "output_type": "display_data"
    }
   ],
   "source": [
    "display(df_trial.head(3))"
   ],
   "metadata": {
    "collapsed": false,
    "ExecuteTime": {
     "end_time": "2023-07-26T16:06:18.030357Z",
     "start_time": "2023-07-26T16:06:17.140168Z"
    }
   }
  },
  {
   "cell_type": "markdown",
   "source": [
    "### Summary statistics of the values in your dataframe\n",
    "\n",
    "To get a first summary statistics of the data contained in your dataframe, you can use `describe`:"
   ],
   "metadata": {
    "collapsed": false
   }
  },
  {
   "cell_type": "code",
   "execution_count": 187,
   "outputs": [
    {
     "data": {
      "text/plain": "        subject                               subj_id  birth_date  sex  \\\ncount       115                                   115         115  115   \nunique      115                                   115          53    2   \ntop     CSHL045  b04fd8a4-1ba4-4bc2-9593-238386281a6c  2021-02-02    M   \nfreq          1                                     1           7   80   \n\n              lab  \ncount         115  \nunique         12  \ntop     cortexlab  \nfreq           17  ",
      "text/html": "<div>\n<style scoped>\n    .dataframe tbody tr th:only-of-type {\n        vertical-align: middle;\n    }\n\n    .dataframe tbody tr th {\n        vertical-align: top;\n    }\n\n    .dataframe thead th {\n        text-align: right;\n    }\n</style>\n<table border=\"1\" class=\"dataframe\">\n  <thead>\n    <tr style=\"text-align: right;\">\n      <th></th>\n      <th>subject</th>\n      <th>subj_id</th>\n      <th>birth_date</th>\n      <th>sex</th>\n      <th>lab</th>\n    </tr>\n  </thead>\n  <tbody>\n    <tr>\n      <th>count</th>\n      <td>115</td>\n      <td>115</td>\n      <td>115</td>\n      <td>115</td>\n      <td>115</td>\n    </tr>\n    <tr>\n      <th>unique</th>\n      <td>115</td>\n      <td>115</td>\n      <td>53</td>\n      <td>2</td>\n      <td>12</td>\n    </tr>\n    <tr>\n      <th>top</th>\n      <td>CSHL045</td>\n      <td>b04fd8a4-1ba4-4bc2-9593-238386281a6c</td>\n      <td>2021-02-02</td>\n      <td>M</td>\n      <td>cortexlab</td>\n    </tr>\n    <tr>\n      <th>freq</th>\n      <td>1</td>\n      <td>1</td>\n      <td>7</td>\n      <td>80</td>\n      <td>17</td>\n    </tr>\n  </tbody>\n</table>\n</div>"
     },
     "execution_count": 187,
     "metadata": {},
     "output_type": "execute_result"
    }
   ],
   "source": [
    "df_subj.describe()"
   ],
   "metadata": {
    "collapsed": false,
    "ExecuteTime": {
     "end_time": "2023-07-26T16:06:18.045582Z",
     "start_time": "2023-07-26T16:06:17.144061Z"
    }
   }
  },
  {
   "cell_type": "code",
   "execution_count": null,
   "outputs": [
    {
     "data": {
      "text/plain": "       goCueTrigger_times  stimOff_times    goCue_times  response_times  \\\ncount       230163.000000  229692.000000  229047.000000   230163.000000   \nmean          1723.475382    1723.536636    1722.018264     1725.256066   \nstd           1151.991465    1150.714354    1150.238999     1152.729992   \nmin              0.604500       9.303933       5.527947        9.324844   \n25%            785.543736     786.883904     785.287009      786.440143   \n50%           1544.595477    1544.638077    1543.487844     1546.240157   \n75%           2472.608590    2470.858568    2470.237567     2475.245691   \nmax           6769.916936    7327.883038    6732.631967     6829.918220   \n\n              choice   stimOn_times   contrastLeft  contrastRight  \\\ncount  230163.000000  229692.000000  117370.000000  112793.000000   \nmean        0.004966    1719.962622       0.321309       0.318271   \nstd         0.997907    1148.683045       0.372139       0.374527   \nmin        -1.000000       5.548545       0.000000       0.000000   \n25%        -1.000000     784.642878       0.062500       0.062500   \n50%         1.000000    1542.025365       0.125000       0.125000   \n75%         1.000000    2466.921022       0.250000       0.250000   \nmax         1.000000    6732.631133       1.000000       1.000000   \n\n       probabilityLeft  feedback_times   feedbackType   rewardVolume  \\\ncount    230163.000000   229636.000000  230163.000000  230163.000000   \nmean          0.506698     1723.290181       0.637978       1.228484   \nstd           0.278383     1151.648303       0.770056       0.577542   \nmin           0.200000        9.689300      -1.000000       0.000000   \n25%           0.200000      785.785860       1.000000       1.500000   \n50%           0.500000     1543.939074       1.000000       1.500000   \n75%           0.800000     2471.594228       1.000000       1.500000   \nmax           0.800000     7327.714589       1.000000       1.500000   \n\n       firstMovement_times    intervals_0    intervals_1   trial_number  \\\ncount        227237.000000  230163.000000  230163.000000  230163.000000   \nmean           1720.049332    1722.407573    1727.006848     356.844293   \nstd            1149.344813    1152.046588    1152.734764     244.695503   \nmin               6.528642     -20.569910      10.824864       0.000000   \n25%             784.477555     784.211235     788.116158     162.000000   \n50%            1540.820952    1543.533531    1547.862391     325.000000   \n75%            2467.300286    2471.595758    2476.952070     504.000000   \nmax            6728.982100    6769.380633    6832.418235    1524.000000   \n\n       reaction_time  \ncount  229047.000000  \nmean        1.717720  \nstd         5.630646  \nmin      -137.816162  \n25%         0.269435  \n50%         0.370535  \n75%         0.708949  \nmax        60.001248  ",
      "text/html": "<div>\n<style scoped>\n    .dataframe tbody tr th:only-of-type {\n        vertical-align: middle;\n    }\n\n    .dataframe tbody tr th {\n        vertical-align: top;\n    }\n\n    .dataframe thead th {\n        text-align: right;\n    }\n</style>\n<table border=\"1\" class=\"dataframe\">\n  <thead>\n    <tr style=\"text-align: right;\">\n      <th></th>\n      <th>goCueTrigger_times</th>\n      <th>stimOff_times</th>\n      <th>goCue_times</th>\n      <th>response_times</th>\n      <th>choice</th>\n      <th>stimOn_times</th>\n      <th>contrastLeft</th>\n      <th>contrastRight</th>\n      <th>probabilityLeft</th>\n      <th>feedback_times</th>\n      <th>feedbackType</th>\n      <th>rewardVolume</th>\n      <th>firstMovement_times</th>\n      <th>intervals_0</th>\n      <th>intervals_1</th>\n      <th>trial_number</th>\n      <th>reaction_time</th>\n    </tr>\n  </thead>\n  <tbody>\n    <tr>\n      <th>count</th>\n      <td>230163.000000</td>\n      <td>229692.000000</td>\n      <td>229047.000000</td>\n      <td>230163.000000</td>\n      <td>230163.000000</td>\n      <td>229692.000000</td>\n      <td>117370.000000</td>\n      <td>112793.000000</td>\n      <td>230163.000000</td>\n      <td>229636.000000</td>\n      <td>230163.000000</td>\n      <td>230163.000000</td>\n      <td>227237.000000</td>\n      <td>230163.000000</td>\n      <td>230163.000000</td>\n      <td>230163.000000</td>\n      <td>229047.000000</td>\n    </tr>\n    <tr>\n      <th>mean</th>\n      <td>1723.475382</td>\n      <td>1723.536636</td>\n      <td>1722.018264</td>\n      <td>1725.256066</td>\n      <td>0.004966</td>\n      <td>1719.962622</td>\n      <td>0.321309</td>\n      <td>0.318271</td>\n      <td>0.506698</td>\n      <td>1723.290181</td>\n      <td>0.637978</td>\n      <td>1.228484</td>\n      <td>1720.049332</td>\n      <td>1722.407573</td>\n      <td>1727.006848</td>\n      <td>356.844293</td>\n      <td>1.717720</td>\n    </tr>\n    <tr>\n      <th>std</th>\n      <td>1151.991465</td>\n      <td>1150.714354</td>\n      <td>1150.238999</td>\n      <td>1152.729992</td>\n      <td>0.997907</td>\n      <td>1148.683045</td>\n      <td>0.372139</td>\n      <td>0.374527</td>\n      <td>0.278383</td>\n      <td>1151.648303</td>\n      <td>0.770056</td>\n      <td>0.577542</td>\n      <td>1149.344813</td>\n      <td>1152.046588</td>\n      <td>1152.734764</td>\n      <td>244.695503</td>\n      <td>5.630646</td>\n    </tr>\n    <tr>\n      <th>min</th>\n      <td>0.604500</td>\n      <td>9.303933</td>\n      <td>5.527947</td>\n      <td>9.324844</td>\n      <td>-1.000000</td>\n      <td>5.548545</td>\n      <td>0.000000</td>\n      <td>0.000000</td>\n      <td>0.200000</td>\n      <td>9.689300</td>\n      <td>-1.000000</td>\n      <td>0.000000</td>\n      <td>6.528642</td>\n      <td>-20.569910</td>\n      <td>10.824864</td>\n      <td>0.000000</td>\n      <td>-137.816162</td>\n    </tr>\n    <tr>\n      <th>25%</th>\n      <td>785.543736</td>\n      <td>786.883904</td>\n      <td>785.287009</td>\n      <td>786.440143</td>\n      <td>-1.000000</td>\n      <td>784.642878</td>\n      <td>0.062500</td>\n      <td>0.062500</td>\n      <td>0.200000</td>\n      <td>785.785860</td>\n      <td>1.000000</td>\n      <td>1.500000</td>\n      <td>784.477555</td>\n      <td>784.211235</td>\n      <td>788.116158</td>\n      <td>162.000000</td>\n      <td>0.269435</td>\n    </tr>\n    <tr>\n      <th>50%</th>\n      <td>1544.595477</td>\n      <td>1544.638077</td>\n      <td>1543.487844</td>\n      <td>1546.240157</td>\n      <td>1.000000</td>\n      <td>1542.025365</td>\n      <td>0.125000</td>\n      <td>0.125000</td>\n      <td>0.500000</td>\n      <td>1543.939074</td>\n      <td>1.000000</td>\n      <td>1.500000</td>\n      <td>1540.820952</td>\n      <td>1543.533531</td>\n      <td>1547.862391</td>\n      <td>325.000000</td>\n      <td>0.370535</td>\n    </tr>\n    <tr>\n      <th>75%</th>\n      <td>2472.608590</td>\n      <td>2470.858568</td>\n      <td>2470.237567</td>\n      <td>2475.245691</td>\n      <td>1.000000</td>\n      <td>2466.921022</td>\n      <td>0.250000</td>\n      <td>0.250000</td>\n      <td>0.800000</td>\n      <td>2471.594228</td>\n      <td>1.000000</td>\n      <td>1.500000</td>\n      <td>2467.300286</td>\n      <td>2471.595758</td>\n      <td>2476.952070</td>\n      <td>504.000000</td>\n      <td>0.708949</td>\n    </tr>\n    <tr>\n      <th>max</th>\n      <td>6769.916936</td>\n      <td>7327.883038</td>\n      <td>6732.631967</td>\n      <td>6829.918220</td>\n      <td>1.000000</td>\n      <td>6732.631133</td>\n      <td>1.000000</td>\n      <td>1.000000</td>\n      <td>0.800000</td>\n      <td>7327.714589</td>\n      <td>1.000000</td>\n      <td>1.500000</td>\n      <td>6728.982100</td>\n      <td>6769.380633</td>\n      <td>6832.418235</td>\n      <td>1524.000000</td>\n      <td>60.001248</td>\n    </tr>\n  </tbody>\n</table>\n</div>"
     },
     "execution_count": 188,
     "metadata": {},
     "output_type": "execute_result"
    }
   ],
   "source": [
    "df_trial.describe()"
   ],
   "metadata": {
    "collapsed": false,
    "is_executing": true,
    "ExecuteTime": {
     "start_time": "2023-07-26T16:06:17.176770Z"
    }
   }
  },
  {
   "cell_type": "markdown",
   "source": [
    "This tells you for example that there are 115 unique subjects, which you can also get by `unique` applied to the column `subj_id`:"
   ],
   "metadata": {
    "collapsed": false
   }
  },
  {
   "cell_type": "code",
   "execution_count": null,
   "outputs": [
    {
     "data": {
      "text/plain": "115"
     },
     "execution_count": 189,
     "metadata": {},
     "output_type": "execute_result"
    }
   ],
   "source": [
    "len(df_subj['subj_id'].unique())"
   ],
   "metadata": {
    "collapsed": false,
    "is_executing": true,
    "ExecuteTime": {
     "start_time": "2023-07-26T16:06:17.430838Z"
    }
   }
  },
  {
   "cell_type": "markdown",
   "source": [
    "This also tells you that the longest session has the maximum `trial_number` of 1524, which you can also get by `max`:"
   ],
   "metadata": {
    "collapsed": false
   }
  },
  {
   "cell_type": "code",
   "execution_count": null,
   "outputs": [
    {
     "data": {
      "text/plain": "1524"
     },
     "execution_count": 190,
     "metadata": {},
     "output_type": "execute_result"
    }
   ],
   "source": [
    "df_trial['trial_number'].max()"
   ],
   "metadata": {
    "collapsed": false,
    "is_executing": true,
    "ExecuteTime": {
     "start_time": "2023-07-26T16:06:17.437955Z"
    }
   }
  },
  {
   "cell_type": "markdown",
   "source": [
    "However, `display` does not give you all statistics possible.\n",
    "There are many more that you can directly apply to columns of interest, such as `mean`, `median`, `mode`, `variance`, `quantile` etc.\n",
    "For example, you may be interested to know the 90% percentile of the reaction time distribution:"
   ],
   "metadata": {
    "collapsed": false
   }
  },
  {
   "cell_type": "code",
   "execution_count": null,
   "outputs": [
    {
     "data": {
      "text/plain": "3.443368558525526"
     },
     "execution_count": 191,
     "metadata": {},
     "output_type": "execute_result"
    }
   ],
   "source": [
    "df_trial['reaction_time'].quantile(q=0.9)"
   ],
   "metadata": {
    "collapsed": false,
    "is_executing": true,
    "ExecuteTime": {
     "start_time": "2023-07-26T16:06:17.443391Z"
    }
   }
  },
  {
   "cell_type": "markdown",
   "source": [
    "Also, `display` does not tell you how many occurrences of one type there is. For example, if you want to know how many male or female mice there are, or how many correct versus incorrect trials there are, use `value_counts`:"
   ],
   "metadata": {
    "collapsed": false
   }
  },
  {
   "cell_type": "code",
   "execution_count": null,
   "outputs": [
    {
     "data": {
      "text/plain": "M    80\nF    35\nName: sex, dtype: int64"
     },
     "execution_count": 192,
     "metadata": {},
     "output_type": "execute_result"
    }
   ],
   "source": [
    "df_subj['sex'].value_counts()"
   ],
   "metadata": {
    "collapsed": false,
    "is_executing": true,
    "ExecuteTime": {
     "start_time": "2023-07-26T16:06:17.456008Z"
    }
   }
  },
  {
   "cell_type": "code",
   "execution_count": null,
   "outputs": [
    {
     "data": {
      "text/plain": " 1.0    188501\n-1.0     41662\nName: feedbackType, dtype: int64"
     },
     "execution_count": 193,
     "metadata": {},
     "output_type": "execute_result"
    }
   ],
   "source": [
    "df_trial['feedbackType'].value_counts()"
   ],
   "metadata": {
    "collapsed": false,
    "is_executing": true,
    "ExecuteTime": {
     "start_time": "2023-07-26T16:06:17.470301Z"
    }
   }
  },
  {
   "cell_type": "markdown",
   "source": [
    "In order to get summary statistics grouped by a category, use `groupby`. For example, you may want to know the count of feedback type per male/female mice:"
   ],
   "metadata": {
    "collapsed": false
   }
  },
  {
   "cell_type": "code",
   "execution_count": null,
   "outputs": [
    {
     "data": {
      "text/plain": "sex  feedbackType\nF     1.0             46870\n     -1.0             11043\nM     1.0            141631\n     -1.0             30619\nName: feedbackType, dtype: int64"
     },
     "execution_count": 194,
     "metadata": {},
     "output_type": "execute_result"
    }
   ],
   "source": [
    "df2 = df_trial.groupby('sex')['feedbackType']\n",
    "df2.value_counts()"
   ],
   "metadata": {
    "collapsed": false,
    "is_executing": true,
    "ExecuteTime": {
     "start_time": "2023-07-26T16:06:17.488303Z"
    }
   }
  },
  {
   "cell_type": "markdown",
   "source": [
    "You could also look at the number of correct/incorrect trials per session:"
   ],
   "metadata": {
    "collapsed": false
   }
  },
  {
   "cell_type": "code",
   "execution_count": null,
   "outputs": [
    {
     "data": {
      "text/plain": "eid                                   feedbackType\n02fbb6da-3034-47d6-a61b-7d06c796a830   1.0            507\n                                      -1.0            139\n03063955-2523-47bd-ae57-f7489dd40f15   1.0            651\n                                      -1.0            216\n032452e9-1886-449d-9c13-0f192572e19f   1.0            314\n                                                     ... \nff48aa1d-ef30-4903-ac34-8c41b738c1b9  -1.0            143\nff96bfe1-d925-4553-94b5-bf8297adf259   1.0            311\n                                      -1.0            115\nffef0311-8ffa-49e3-a857-b3adf6d86e12   1.0            453\n                                      -1.0            125\nName: feedbackType, Length: 708, dtype: int64"
     },
     "execution_count": 195,
     "metadata": {},
     "output_type": "execute_result"
    }
   ],
   "source": [
    "df2 = df_trial.groupby('eid')['feedbackType']\n",
    "df2.value_counts()"
   ],
   "metadata": {
    "collapsed": false,
    "is_executing": true,
    "ExecuteTime": {
     "start_time": "2023-07-26T16:06:17.524710Z"
    }
   }
  },
  {
   "cell_type": "markdown",
   "source": [
    "Once you use `groupby`, you can then use the aggregate method `agg` to get a summary statistic per category. For example, if you want to know the mean reaction time per male/female mice:"
   ],
   "metadata": {
    "collapsed": false
   }
  },
  {
   "cell_type": "code",
   "execution_count": null,
   "outputs": [
    {
     "data": {
      "text/plain": "     reaction_time\nsex               \nF          1.52260\nM          1.78332",
      "text/html": "<div>\n<style scoped>\n    .dataframe tbody tr th:only-of-type {\n        vertical-align: middle;\n    }\n\n    .dataframe tbody tr th {\n        vertical-align: top;\n    }\n\n    .dataframe thead th {\n        text-align: right;\n    }\n</style>\n<table border=\"1\" class=\"dataframe\">\n  <thead>\n    <tr style=\"text-align: right;\">\n      <th></th>\n      <th>reaction_time</th>\n    </tr>\n    <tr>\n      <th>sex</th>\n      <th></th>\n    </tr>\n  </thead>\n  <tbody>\n    <tr>\n      <th>F</th>\n      <td>1.52260</td>\n    </tr>\n    <tr>\n      <th>M</th>\n      <td>1.78332</td>\n    </tr>\n  </tbody>\n</table>\n</div>"
     },
     "execution_count": 196,
     "metadata": {},
     "output_type": "execute_result"
    }
   ],
   "source": [
    "df_trial.groupby('sex').agg({'reaction_time': 'mean'})"
   ],
   "metadata": {
    "collapsed": false,
    "is_executing": true,
    "ExecuteTime": {
     "start_time": "2023-07-26T16:06:17.575617Z"
    }
   }
  },
  {
   "cell_type": "markdown",
   "source": [
    "### Displaying the values in your dataframe"
   ],
   "metadata": {
    "collapsed": false
   }
  },
  {
   "cell_type": "markdown",
   "source": [
    "There are several plots you can use to visualise distributions. We will use:\n",
    "- Histogram\n",
    "- Kernel density estimate\n",
    "- Box plot\n",
    "- Scatter plot\n",
    "\n",
    "We will require two libraries: `matplotlib` and `seaborn`. The library `pandas` uses `matpltlib` under the hood, however we need to import it in order to display the legends.\n"
   ],
   "metadata": {
    "collapsed": false
   }
  },
  {
   "cell_type": "code",
   "execution_count": null,
   "outputs": [],
   "source": [
    "import matplotlib.pyplot as plt  # matplotlib is required to plot the legend\n",
    "import seaborn as sns"
   ],
   "metadata": {
    "collapsed": false,
    "is_executing": true,
    "ExecuteTime": {
     "start_time": "2023-07-26T16:06:17.604409Z"
    }
   }
  },
  {
   "cell_type": "markdown",
   "source": [
    "\n",
    "We will now plot the distribution of reaction time (this is across all sessions and all mice). You can use either a histogram plot, or a kernel density estimate plot:"
   ],
   "metadata": {
    "collapsed": false
   }
  },
  {
   "cell_type": "code",
   "execution_count": null,
   "outputs": [],
   "source": [
    "df_trial['reaction_time'].hist()"
   ],
   "metadata": {
    "collapsed": false,
    "is_executing": true
   }
  },
  {
   "cell_type": "code",
   "execution_count": null,
   "outputs": [],
   "source": [
    "df_trial['reaction_time'].plot(kind='kde')"
   ],
   "metadata": {
    "collapsed": false,
    "is_executing": true
   }
  },
  {
   "cell_type": "markdown",
   "source": [
    "You can use the plotting functions also on `groupby`, for example if you want to plot the reaction time distribution for male and female mice separately:"
   ],
   "metadata": {
    "collapsed": false
   }
  },
  {
   "cell_type": "code",
   "execution_count": null,
   "outputs": [],
   "source": [
    "# Plot the histogram of trial numbers for both male and female mice\n",
    "df_trial.groupby('sex')['reaction_time'].plot(kind='kde')\n",
    "\n",
    "# Add legends for the curves (sex)\n",
    "plt.legend(df_trial.groupby('sex').sex.dtype.index.to_list(), title='Sex')"
   ],
   "metadata": {
    "collapsed": false,
    "is_executing": true,
    "ExecuteTime": {
     "start_time": "2023-07-26T16:06:17.607570Z"
    }
   }
  },
  {
   "cell_type": "markdown",
   "source": [
    "In the plot above, there are two curves but they are hard to distinguish as very similar. We will thus use another kind of plotting to distinguish them better.\n",
    "\n",
    "Using `box` plot, you do not need to do the `groupby`, as the grouping is declared using the argument `by`:"
   ],
   "metadata": {
    "collapsed": false
   }
  },
  {
   "cell_type": "code",
   "execution_count": null,
   "outputs": [],
   "source": [
    "df_trial.plot.box(column=\"reaction_time\", by=\"sex\")"
   ],
   "metadata": {
    "collapsed": false,
    "is_executing": true
   }
  },
  {
   "cell_type": "markdown",
   "source": [
    "Using the `seaborn` (shortened as `sns`) library, we can generate scatter plot.\n",
    "This is a useful plot kind, as it shows all the data points. Additionally, you can color data point by a given type.\n",
    "For example, we plot the reaction time across trial number, and color the data points by the feedback type. This gives a hint that incorrect trials occur throughout the session, however may in proportion be more prevalent towards the end of the session."
   ],
   "metadata": {
    "collapsed": false
   }
  },
  {
   "cell_type": "code",
   "execution_count": null,
   "outputs": [],
   "source": [
    "sns.scatterplot(data=df_trial, x='trial_number', y='reaction_time', hue='feedbackType')"
   ],
   "metadata": {
    "collapsed": false,
    "is_executing": true
   }
  },
  {
   "cell_type": "markdown",
   "source": [
    "### Generate smaller dataframe based on a given condition"
   ],
   "metadata": {
    "collapsed": false
   }
  },
  {
   "cell_type": "markdown",
   "source": [
    "You might be interested to work only with certain rows of the dataframe.\n",
    "You can filter rows based on a column condition via multiple ways. A full tutorial can be found [at this link](https://sparkbyexamples.com/pandas/pandas-filter-by-column-value/), here we will show you two simple ways.\n",
    "\n",
    "One way is to use the nomenclature:\n",
    "`df2 = df[df['col'] > value]`  (replace `>` by `==` or `<` as needed)\n",
    "\n",
    "For example, to get a trial dataframe with rows containing only reaction times above the 75% percentile:"
   ],
   "metadata": {
    "collapsed": false
   }
  },
  {
   "cell_type": "code",
   "execution_count": null,
   "outputs": [],
   "source": [
    "df_trial_rt = df_trial[df_trial['reaction_time'] > df_trial['reaction_time'].quantile(q=0.75)]\n",
    "print(f'df_trial_rt has {len(df_trial_rt)} rows')"
   ],
   "metadata": {
    "collapsed": false,
    "is_executing": true
   }
  },
  {
   "cell_type": "markdown",
   "source": [
    "This is a much smaller dataframe than the whole `df_trials`.\n",
    "\n",
    "Another way is to use `loc`, or `grouby` and `get_group`, for example to create dataframe containing data only for female or male mice:"
   ],
   "metadata": {
    "collapsed": false
   }
  },
  {
   "cell_type": "code",
   "execution_count": null,
   "outputs": [],
   "source": [
    "df_trial_F = df_trial.loc[df_trial['sex'] == 'F']"
   ],
   "metadata": {
    "collapsed": false,
    "is_executing": true
   }
  },
  {
   "cell_type": "code",
   "execution_count": null,
   "outputs": [],
   "source": [
    "df_trial_M = df_trial.groupby('sex').get_group('M')"
   ],
   "metadata": {
    "collapsed": false,
    "is_executing": true
   }
  },
  {
   "cell_type": "markdown",
   "source": [
    "### Perform statistical comparison on the data\n",
    "\n",
    "In this course, we will mainly want to assess whether 2 distributions are statistically different. For example, we will want co compare the distribution of reaction times of female versus male mice.\n",
    "\n",
    "For this, we use the library `scipy` which has a `stats` module.\n",
    "In particular, to compare two distributions we will use the two-sample [Kolmogorov-Smirnov](https://en.m.wikipedia.org/wiki/Kolmogorov%E2%80%93Smirnov_test) test [ks_2samp](https://docs.scipy.org/doc/scipy/reference/generated/scipy.stats.ks_2samp.html)."
   ],
   "metadata": {
    "collapsed": false
   }
  },
  {
   "cell_type": "code",
   "execution_count": null,
   "outputs": [],
   "source": [
    "from scipy.stats import ks_2samp\n",
    "\n",
    "ks_2samp(df_trial.groupby('sex').get_group('M')['reaction_time'],\n",
    "         df_trial.groupby('sex').get_group('F')['reaction_time'])"
   ],
   "metadata": {
    "collapsed": false,
    "is_executing": true
   }
  },
  {
   "cell_type": "markdown",
   "source": [
    "Under the null hypothesis the two distributions are identical. If the K-S statistic is small or the p-value is high (greater than the significance level, say 0.05), then we cannot reject the hypothesis that the distributions of the two samples are the same. Conversely, we can reject the null hypothesis if the p-value is low."
   ],
   "metadata": {
    "collapsed": false
   }
  },
  {
   "cell_type": "markdown",
   "source": [
    "# Step 2: Select a project\n",
    "\n",
    "## Project 1: Do male mice respond faster than female mice?\n",
    "\n",
    "In this project, we are interested to know whether female mice respond differently than male mice. This is important, because we want to pool data across mice and make generalised conclusion. Therefore, we need to know whether their behavior is indistinguishable. To study this, we will look at the reaction time in trials where the animals responded either correctly or incorrectly.\n",
    "\n",
    "In this project, you will first:\n",
    "- Learn how to search the dataframes for male or female subjects\n",
    "- Learn how to compute reactions times\n",
    "- Learn how to study reaction times in correct versus incorrect trials\n",
    "- Explore the trend of the reaction times across a session, by viewing the reaction times across trials, for an example session from either a female or male mice\n",
    "\n",
    "Then, you will be tasked to:\n",
    "- Visualise whether the reaction times across trials shows a different trend for female and male mice\n",
    "- Find a good epoch in the session, and a good metric, to perform the comparison. For example, per mouse, take the first N trials of the session, and compute the median reaction time over it. Compare the median reaction time for male versus female mile\n",
    "\n",
    "### Loading and visualising the data\n",
    "Use the pandas `read_parquet` function to load in each dataframe:\n"
   ],
   "metadata": {
    "collapsed": false
   }
  },
  {
   "cell_type": "code",
   "execution_count": null,
   "outputs": [],
   "source": [
    "import pandas as pd\n",
    "from pathlib import Path\n",
    "import numpy as np\n",
    "\n",
    "LOCAL_PATH = Path('/Users/gaelle/Documents/Work/Course')\n",
    "\n",
    "# Load the data\n",
    "df_sess = pd.read_parquet(LOCAL_PATH.joinpath('sessions.pqt'))\n",
    "df_subj = pd.read_parquet(LOCAL_PATH.joinpath('subjects.pqt'))\n",
    "df_trial = pd.read_parquet(LOCAL_PATH.joinpath('trials.pqt'))"
   ],
   "metadata": {
    "collapsed": false,
    "is_executing": true
   }
  },
  {
   "cell_type": "markdown",
   "source": [
    "- `df_sess`: each row contains the information on a session, e.g. its start time and date\n",
    "- `ds_subj`: each row contains the information on a subject, e.g. its name or sex\n",
    "- `ds_trial`: each row contain the information on a trial (of a particular session), e.g. whether the response was correct or incorrect on that trial\n"
   ],
   "metadata": {
    "collapsed": false
   }
  },
  {
   "cell_type": "markdown",
   "source": [
    "To know whether a mouse is male or female, look into the column `sex` of the `subjects` dataframe:"
   ],
   "metadata": {
    "collapsed": false
   }
  },
  {
   "cell_type": "code",
   "execution_count": null,
   "outputs": [],
   "source": [
    "print(df_subj.columns)\n",
    "# We print the unique values from the column sex:\n",
    "print(np.unique(df_subj['sex']))"
   ],
   "metadata": {
    "collapsed": false,
    "is_executing": true
   }
  },
  {
   "cell_type": "markdown",
   "source": [
    "To compute the reaction time, we will need to use the two variables from the `trials` dataframe:\n",
    "- the go cue time, found in the colum `goCue_times`\n",
    "- the response time, found in the column `response_times`\n",
    "\n",
    "These are the times (in second from the session start) at which the go cue was sent, and a response from the mouse was registered, respectively."
   ],
   "metadata": {
    "collapsed": false
   }
  },
  {
   "cell_type": "code",
   "execution_count": null,
   "outputs": [],
   "source": [
    "print(df_trial.columns)\n",
    "\n",
    "df_trial['reaction_time'] = df_trial['response_times'] - df_trial['goCue_times']"
   ],
   "metadata": {
    "collapsed": false,
    "is_executing": true
   }
  },
  {
   "cell_type": "code",
   "execution_count": null,
   "outputs": [],
   "source": [
    "# Merge\n",
    "df_sess = df_sess.merge(df_subj[['subject', 'sex']], on='subject')\n",
    "df_trial_neg_rt = df_trial_neg_rt.merge(df_sess[['eid', 'sex']], on='eid')\n",
    "\n",
    "print(df_trial_neg_rt.columns)  # Notice we added in the 'sex' column"
   ],
   "metadata": {
    "collapsed": false,
    "is_executing": true
   }
  },
  {
   "cell_type": "markdown",
   "source": [
    "We will now plot the distribution of reaction time (this is across all sessions and all mice). You can use either a histogram plot, or a kernel density estimate plot:"
   ],
   "metadata": {
    "collapsed": false
   }
  },
  {
   "cell_type": "code",
   "execution_count": null,
   "outputs": [],
   "source": [
    "df_trial['reaction_time'].hist()"
   ],
   "metadata": {
    "collapsed": false,
    "is_executing": true
   }
  },
  {
   "cell_type": "code",
   "execution_count": null,
   "outputs": [],
   "source": [
    "df_trial['reaction_time'].plot(kind='kde')"
   ],
   "metadata": {
    "collapsed": false,
    "is_executing": true
   }
  },
  {
   "cell_type": "markdown",
   "source": [
    "Did you notice that some reactions times are negative? This can be surprising at first, as this means the mouse made a response before the stimulus was even presented. Let's see how many trials with negative RTs there are:"
   ],
   "metadata": {
    "collapsed": false
   }
  },
  {
   "cell_type": "code",
   "execution_count": null,
   "outputs": [],
   "source": [
    "df_trial_neg_rt = df_trial[df_trial['reaction_time'] < 0]\n",
    "print(len(df_trial_neg_rt))"
   ],
   "metadata": {
    "collapsed": false,
    "is_executing": true
   }
  },
  {
   "cell_type": "markdown",
   "source": [
    "Let's see if negative reaction times occur in both male and female mice.\n",
    "First, we need to join the trials and subjects table through the sessions table, to later be able to group by the reaction time values by sex type:"
   ],
   "metadata": {
    "collapsed": false
   }
  },
  {
   "cell_type": "code",
   "execution_count": null,
   "outputs": [],
   "source": [
    "# Merge\n",
    "df_sess = df_sess.merge(df_subj[['subject', 'sex']], on='subject')\n",
    "df_trial_neg_rt = df_trial_neg_rt.merge(df_sess[['eid', 'sex']], on='eid')\n",
    "\n",
    "print(df_trial_neg_rt.columns)  # Notice we added in the 'sex' column"
   ],
   "metadata": {
    "collapsed": false,
    "is_executing": true
   }
  },
  {
   "cell_type": "code",
   "execution_count": null,
   "outputs": [],
   "source": [
    "df_trial_neg_rt.groupby('sex')['reaction_time'].count()"
   ],
   "metadata": {
    "collapsed": false,
    "is_executing": true
   }
  },
  {
   "cell_type": "markdown",
   "source": [
    "There seems to be more negative reaction time in female mice when displaying just this number, however you have to take into account the proportion of female versus male mice (i.e. we may have many more females than males to begin with).\n",
    " - Can you find out how many trials there are for female and male mice?\n",
    "  - And the proportion of trials done by female compared to male mice?\n",
    "    - Would this proportion explain the difference with see here with negative reaction time?"
   ],
   "metadata": {
    "collapsed": false
   }
  },
  {
   "cell_type": "markdown",
   "source": [
    "Let's see if negative reaction times occur at the end or beginning of the session. We generate the histogram of trial number with negative reaction times:"
   ],
   "metadata": {
    "collapsed": false
   }
  },
  {
   "cell_type": "code",
   "execution_count": null,
   "outputs": [],
   "source": [
    "df_trial_neg_rt[\"trial_number\"].hist()"
   ],
   "metadata": {
    "collapsed": false,
    "is_executing": true
   }
  },
  {
   "cell_type": "markdown",
   "source": [
    "This seems pretty evenly spread. However, this may be confounded by the fact that we look at several mice at once.\n",
    "\n",
    "To see this histogram distribution for either male and female mice on the same plot, we use `groupby`:"
   ],
   "metadata": {
    "collapsed": false
   }
  },
  {
   "cell_type": "code",
   "execution_count": null,
   "outputs": [],
   "source": [
    "import matplotlib.pyplot as plt\n",
    "# Note that matplotlib is required to plot the legend\n",
    "\n",
    "# Plot the histogram of trial numbers for both male and female mice\n",
    "df_trial_neg_rt.groupby('sex')['trial_number'].plot(kind='hist')\n",
    "\n",
    "# Add legends for the curves (sex)\n",
    "plt.legend(df_trial_neg_rt.groupby('sex').sex.dtype.index.to_list(), title='Sex')\n"
   ],
   "metadata": {
    "collapsed": false,
    "is_executing": true
   }
  },
  {
   "cell_type": "markdown",
   "source": [
    "You can also use boxplot to reveal the distributions side by side:"
   ],
   "metadata": {
    "collapsed": false
   }
  },
  {
   "cell_type": "code",
   "execution_count": null,
   "outputs": [],
   "source": [
    "df_trial_neg_rt.plot.box(column=\"trial_number\", by=\"sex\")"
   ],
   "metadata": {
    "collapsed": false,
    "is_executing": true
   }
  },
  {
   "cell_type": "markdown",
   "source": [
    "- Can you plot the distribution of trial number for negative reaction time per subject?\n",
    "- How many negative reaction time does each subject do?\n",
    "- Is there an outlier subject? Can you see if this happens over one, or several session for this outlier?"
   ],
   "metadata": {
    "collapsed": false
   }
  },
  {
   "cell_type": "markdown",
   "source": [
    "### Further questions\n",
    "\n",
    "We have focused on trials with negative reaction times to get you started, however what we really want to know if whether female and male mice respond faster when the reaction time is positive.\n",
    "\n",
    "- Merge the trials table with the session/subject tables so that it contains the information on `sex` and `subject` name in new columns.\n",
    "- Create a new trial dataframe with only positive ( `> 0` ) reaction time trials\n",
    "- Plot the distribution of reaction time for male and female mice using `kde`\n",
    "-"
   ],
   "metadata": {
    "collapsed": false
   }
  },
  {
   "cell_type": "markdown",
   "source": [],
   "metadata": {
    "collapsed": false
   }
  },
  {
   "cell_type": "markdown",
   "source": [
    "## Project 2: Does training at late time in the day impact on performance?"
   ],
   "metadata": {
    "collapsed": false
   }
  }
 ],
 "metadata": {
  "kernelspec": {
   "display_name": "Python 3",
   "language": "python",
   "name": "python3"
  },
  "language_info": {
   "codemirror_mode": {
    "name": "ipython",
    "version": 2
   },
   "file_extension": ".py",
   "mimetype": "text/x-python",
   "name": "python",
   "nbconvert_exporter": "python",
   "pygments_lexer": "ipython2",
   "version": "2.7.6"
  }
 },
 "nbformat": 4,
 "nbformat_minor": 0
}
