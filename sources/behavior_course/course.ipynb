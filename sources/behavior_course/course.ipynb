{
 "cells": [
  {
   "cell_type": "markdown",
   "source": [
    "# Topic of the course\n",
    "\n",
    "In this practical course, you will explore the behavior of expert mice doing the IBL task. Mice perform the task one time a day, and we call this a behavioral training *session*.\n",
    "\n",
    "We will explore together some responses of the mice, and then you will select one of these projects:\n",
    "- Do male mice respond faster than female mice?\n",
    "- Does training at late time in the day impact on performance?\n",
    "\n",
    "# Introduction: What data will be used\n",
    "\n",
    "We will use three [pandas dataframes](https://pandas.pydata.org/docs/reference/api/pandas.DataFrame.html):\n",
    "- `df_subjects` that contains the information on the mouse, which we call subject, for example its name, its date of birth\n",
    "- `df_sessions` that contains the information on the behavioral sessions made by each subject, for example the start time of the session\n",
    "- `df_trials` that contains the information for each trials of the sessions, for example the time of the go cue\n",
    "\n",
    "These dataframes will contain the information of over 300+ sessions, for over 100+ mice.\n",
    "\n",
    "## Download the datasets\n",
    "Use this [script](../behavior_course/scripts/data_loading.py) to download the data. Set the `LOCAL_DATA_PATH` to a folder on your machine where you want the data downloaded.\n",
    "\n",
    "## Technical references\n",
    "Before starting the analysis, get familiar with :\n",
    "- [pandas dataframes](https://pandas.pydata.org/docs/reference/api/pandas.DataFrame.html)\n"
   ],
   "metadata": {
    "collapsed": false
   }
  },
  {
   "cell_type": "markdown",
   "source": [
    "# Step 1: Explore the data\n",
    "\n",
    "## Using the visualisation website\n",
    "\n",
    "You can view the session using the visualisation website, and scrolling down to the session overview page.\n",
    "You can write a mouse name in the search bar (note that one mouse may have several sessions).\n",
    "\n",
    "- We use here one [example session](https://viz.internationalbrainlab.org/app?dset=bwm&pid=53ecbf4f-e0d8-4fe6-a852-8b934a37a1c2&tid=0&cid=1399&qc=0) of subject `KS014`"
   ],
   "metadata": {
    "collapsed": false
   }
  },
  {
   "cell_type": "markdown",
   "source": [
    "![Viz webpage: session overview](../behavior_course/images/behaviour_overview_PID_53ecbf4f-e0d8-4fe6-a852-8b934a37a1c2.png)\n",
    "\n",
    "Do you notice that the mouse reaction time increases over the course of the session?"
   ],
   "metadata": {
    "collapsed": false
   }
  },
  {
   "cell_type": "markdown",
   "source": [
    "Further down the page, you can observe the timing between events (stim on, first move etc) at each trial; click on the left-image to see a particular trial of interest:"
   ],
   "metadata": {
    "collapsed": false
   }
  },
  {
   "cell_type": "markdown",
   "source": [
    "![Viz webpage: trial overview](../behavior_course/images/trial-0153.png)\n",
    "Look at the first 3 trials, and the last 3 trials during the session. Do you notice any difference?"
   ],
   "metadata": {
    "collapsed": false
   }
  },
  {
   "cell_type": "markdown",
   "source": [
    "You can also see the mouse performing the task in real time, and get a sense for how the task enfolds using the panel below ; you can click and drag the center view to explore the environment the mouse is behaving in."
   ],
   "metadata": {
    "collapsed": false
   }
  },
  {
   "cell_type": "markdown",
   "source": [
    "![Viz webpage: setup](../behavior_course/images/behavior_video.png)\n",
    "Look at the contrast on the screen, and pretend you are doing the task in your mind. Would you have been as fast as the mouse to react and place the stimulus in the center?"
   ],
   "metadata": {
    "collapsed": false
   }
  },
  {
   "cell_type": "markdown",
   "source": [
    "## Loading and visualising the data\n",
    "Use the pandas `read_parquet` function to load in the following dataframes:"
   ],
   "metadata": {
    "collapsed": false
   }
  },
  {
   "cell_type": "code",
   "execution_count": 122,
   "outputs": [],
   "source": [
    "import pandas as pd\n",
    "from pathlib import Path\n",
    "\n",
    "LOCAL_PATH = Path('/Users/gaelle/Documents/Work/Course')\n",
    "\n",
    "df_sess = pd.read_parquet(LOCAL_PATH.joinpath('sessions.pqt'))\n",
    "df_subj = pd.read_parquet(LOCAL_PATH.joinpath('subjects.pqt'))\n",
    "df_trial = pd.read_parquet(LOCAL_PATH.joinpath('trials.pqt'))"
   ],
   "metadata": {
    "collapsed": false,
    "ExecuteTime": {
     "end_time": "2023-07-26T12:53:33.051852Z",
     "start_time": "2023-07-26T12:53:32.738968Z"
    }
   }
  },
  {
   "cell_type": "markdown",
   "source": [
    "Each dataframe contains a different kind of information:\n",
    "- `df_sess`: each row contains the information on a session, e.g. its start time and date\n",
    "- `ds_subj`: each row contains the information on a subject, e.g. its name or sex\n",
    "- `ds_trial`: each row contain the information on a trial (of a particular session), e.g. whether the response was correct or incorrect on that trial\n",
    "\n",
    "Below we display the first 3 rows for each dataframe:"
   ],
   "metadata": {
    "collapsed": false
   }
  },
  {
   "cell_type": "code",
   "execution_count": 123,
   "outputs": [
    {
     "data": {
      "text/plain": "                                    eid  subject            lab  \\\n0  034e726f-b35f-41e0-8d6c-a22cc32391fb  CSHL045  churchlandlab   \n1  dfd8e7df-dc51-4589-b6ca-7baccfeb94b4  CSHL045  churchlandlab   \n2  fa704052-147e-46f6-b190-a65b837e605e  CSHL045  churchlandlab   \n\n                         task_protocol           date_time  \\\n0  _iblrig_tasks_ephysChoiceWorld6.2.5 2020-02-24 14:41:02   \n1  _iblrig_tasks_ephysChoiceWorld6.2.5 2020-02-25 09:53:24   \n2  _iblrig_tasks_ephysChoiceWorld6.2.5 2020-02-26 14:48:55   \n\n                                subj_id  \n0  b04fd8a4-1ba4-4bc2-9593-238386281a6c  \n1  b04fd8a4-1ba4-4bc2-9593-238386281a6c  \n2  b04fd8a4-1ba4-4bc2-9593-238386281a6c  ",
      "text/html": "<div>\n<style scoped>\n    .dataframe tbody tr th:only-of-type {\n        vertical-align: middle;\n    }\n\n    .dataframe tbody tr th {\n        vertical-align: top;\n    }\n\n    .dataframe thead th {\n        text-align: right;\n    }\n</style>\n<table border=\"1\" class=\"dataframe\">\n  <thead>\n    <tr style=\"text-align: right;\">\n      <th></th>\n      <th>eid</th>\n      <th>subject</th>\n      <th>lab</th>\n      <th>task_protocol</th>\n      <th>date_time</th>\n      <th>subj_id</th>\n    </tr>\n  </thead>\n  <tbody>\n    <tr>\n      <th>0</th>\n      <td>034e726f-b35f-41e0-8d6c-a22cc32391fb</td>\n      <td>CSHL045</td>\n      <td>churchlandlab</td>\n      <td>_iblrig_tasks_ephysChoiceWorld6.2.5</td>\n      <td>2020-02-24 14:41:02</td>\n      <td>b04fd8a4-1ba4-4bc2-9593-238386281a6c</td>\n    </tr>\n    <tr>\n      <th>1</th>\n      <td>dfd8e7df-dc51-4589-b6ca-7baccfeb94b4</td>\n      <td>CSHL045</td>\n      <td>churchlandlab</td>\n      <td>_iblrig_tasks_ephysChoiceWorld6.2.5</td>\n      <td>2020-02-25 09:53:24</td>\n      <td>b04fd8a4-1ba4-4bc2-9593-238386281a6c</td>\n    </tr>\n    <tr>\n      <th>2</th>\n      <td>fa704052-147e-46f6-b190-a65b837e605e</td>\n      <td>CSHL045</td>\n      <td>churchlandlab</td>\n      <td>_iblrig_tasks_ephysChoiceWorld6.2.5</td>\n      <td>2020-02-26 14:48:55</td>\n      <td>b04fd8a4-1ba4-4bc2-9593-238386281a6c</td>\n    </tr>\n  </tbody>\n</table>\n</div>"
     },
     "metadata": {},
     "output_type": "display_data"
    }
   ],
   "source": [
    "display(df_sess.head(3))"
   ],
   "metadata": {
    "collapsed": false,
    "ExecuteTime": {
     "end_time": "2023-07-26T12:53:33.059033Z",
     "start_time": "2023-07-26T12:53:32.991339Z"
    }
   }
  },
  {
   "cell_type": "code",
   "execution_count": 124,
   "outputs": [
    {
     "data": {
      "text/plain": "   subject                               subj_id  birth_date sex  \\\n0  CSHL045  b04fd8a4-1ba4-4bc2-9593-238386281a6c  2019-08-06   M   \n1  CSHL047  15f98ab5-20d8-4345-a5de-21912a39575f  2019-08-06   M   \n2  CSHL049  9bebfe0b-082e-4d66-aca7-fae29317f708  2019-08-06   M   \n\n             lab  \n0  churchlandlab  \n1  churchlandlab  \n2  churchlandlab  ",
      "text/html": "<div>\n<style scoped>\n    .dataframe tbody tr th:only-of-type {\n        vertical-align: middle;\n    }\n\n    .dataframe tbody tr th {\n        vertical-align: top;\n    }\n\n    .dataframe thead th {\n        text-align: right;\n    }\n</style>\n<table border=\"1\" class=\"dataframe\">\n  <thead>\n    <tr style=\"text-align: right;\">\n      <th></th>\n      <th>subject</th>\n      <th>subj_id</th>\n      <th>birth_date</th>\n      <th>sex</th>\n      <th>lab</th>\n    </tr>\n  </thead>\n  <tbody>\n    <tr>\n      <th>0</th>\n      <td>CSHL045</td>\n      <td>b04fd8a4-1ba4-4bc2-9593-238386281a6c</td>\n      <td>2019-08-06</td>\n      <td>M</td>\n      <td>churchlandlab</td>\n    </tr>\n    <tr>\n      <th>1</th>\n      <td>CSHL047</td>\n      <td>15f98ab5-20d8-4345-a5de-21912a39575f</td>\n      <td>2019-08-06</td>\n      <td>M</td>\n      <td>churchlandlab</td>\n    </tr>\n    <tr>\n      <th>2</th>\n      <td>CSHL049</td>\n      <td>9bebfe0b-082e-4d66-aca7-fae29317f708</td>\n      <td>2019-08-06</td>\n      <td>M</td>\n      <td>churchlandlab</td>\n    </tr>\n  </tbody>\n</table>\n</div>"
     },
     "metadata": {},
     "output_type": "display_data"
    }
   ],
   "source": [
    "display(df_subj.head(3))"
   ],
   "metadata": {
    "collapsed": false,
    "ExecuteTime": {
     "end_time": "2023-07-26T12:53:33.059403Z",
     "start_time": "2023-07-26T12:53:33.001737Z"
    }
   }
  },
  {
   "cell_type": "code",
   "execution_count": 125,
   "outputs": [
    {
     "data": {
      "text/plain": "   goCueTrigger_times  stimOff_times  goCue_times  response_times  choice  \\\n0          117.456930     118.805552   117.457586       117.75133     1.0   \n1          127.268840     128.671932   127.269772       127.61124     1.0   \n2          131.702041     133.068359   131.703362       132.00624     1.0   \n\n   stimOn_times  contrastLeft  contrastRight  probabilityLeft  feedback_times  \\\n0    117.555543         1.000            NaN              0.5      117.751457   \n1    127.268639         0.125            NaN              0.5      127.611338   \n2    131.701895         1.000            NaN              0.5      132.006365   \n\n   feedbackType  rewardVolume  firstMovement_times  intervals_0  intervals_1  \\\n0           1.0           1.5           117.641626   116.695529   119.305634   \n1           1.0           1.5           127.492626   119.997332   129.171944   \n2           1.0           1.5           131.802626   129.895043   133.568441   \n\n                                    eid  trial_number  \n0  ae8787b1-4229-4d56-b0c2-566b61a25b77             0  \n1  ae8787b1-4229-4d56-b0c2-566b61a25b77             1  \n2  ae8787b1-4229-4d56-b0c2-566b61a25b77             2  ",
      "text/html": "<div>\n<style scoped>\n    .dataframe tbody tr th:only-of-type {\n        vertical-align: middle;\n    }\n\n    .dataframe tbody tr th {\n        vertical-align: top;\n    }\n\n    .dataframe thead th {\n        text-align: right;\n    }\n</style>\n<table border=\"1\" class=\"dataframe\">\n  <thead>\n    <tr style=\"text-align: right;\">\n      <th></th>\n      <th>goCueTrigger_times</th>\n      <th>stimOff_times</th>\n      <th>goCue_times</th>\n      <th>response_times</th>\n      <th>choice</th>\n      <th>stimOn_times</th>\n      <th>contrastLeft</th>\n      <th>contrastRight</th>\n      <th>probabilityLeft</th>\n      <th>feedback_times</th>\n      <th>feedbackType</th>\n      <th>rewardVolume</th>\n      <th>firstMovement_times</th>\n      <th>intervals_0</th>\n      <th>intervals_1</th>\n      <th>eid</th>\n      <th>trial_number</th>\n    </tr>\n  </thead>\n  <tbody>\n    <tr>\n      <th>0</th>\n      <td>117.456930</td>\n      <td>118.805552</td>\n      <td>117.457586</td>\n      <td>117.75133</td>\n      <td>1.0</td>\n      <td>117.555543</td>\n      <td>1.000</td>\n      <td>NaN</td>\n      <td>0.5</td>\n      <td>117.751457</td>\n      <td>1.0</td>\n      <td>1.5</td>\n      <td>117.641626</td>\n      <td>116.695529</td>\n      <td>119.305634</td>\n      <td>ae8787b1-4229-4d56-b0c2-566b61a25b77</td>\n      <td>0</td>\n    </tr>\n    <tr>\n      <th>1</th>\n      <td>127.268840</td>\n      <td>128.671932</td>\n      <td>127.269772</td>\n      <td>127.61124</td>\n      <td>1.0</td>\n      <td>127.268639</td>\n      <td>0.125</td>\n      <td>NaN</td>\n      <td>0.5</td>\n      <td>127.611338</td>\n      <td>1.0</td>\n      <td>1.5</td>\n      <td>127.492626</td>\n      <td>119.997332</td>\n      <td>129.171944</td>\n      <td>ae8787b1-4229-4d56-b0c2-566b61a25b77</td>\n      <td>1</td>\n    </tr>\n    <tr>\n      <th>2</th>\n      <td>131.702041</td>\n      <td>133.068359</td>\n      <td>131.703362</td>\n      <td>132.00624</td>\n      <td>1.0</td>\n      <td>131.701895</td>\n      <td>1.000</td>\n      <td>NaN</td>\n      <td>0.5</td>\n      <td>132.006365</td>\n      <td>1.0</td>\n      <td>1.5</td>\n      <td>131.802626</td>\n      <td>129.895043</td>\n      <td>133.568441</td>\n      <td>ae8787b1-4229-4d56-b0c2-566b61a25b77</td>\n      <td>2</td>\n    </tr>\n  </tbody>\n</table>\n</div>"
     },
     "metadata": {},
     "output_type": "display_data"
    }
   ],
   "source": [
    "display(df_trial.head(3))"
   ],
   "metadata": {
    "collapsed": false,
    "ExecuteTime": {
     "end_time": "2023-07-26T12:53:33.059715Z",
     "start_time": "2023-07-26T12:53:33.015057Z"
    }
   }
  },
  {
   "cell_type": "markdown",
   "source": [
    "### Merging the dataframes\n",
    "Imagine you need to know for each trial whether the mouse was male or female. This is not an information you readily have in the `df_trial`. But it is information you can retrieve through the other dataframes, in the case of this example:\n",
    "\n",
    "- Each row in `df_trial` contains the session unique identified `eid`\n",
    "- Each row in `df_sess` contains the session identified `eid` and the subject identifier `subj_id`\n",
    "- Each row in `df_subj` contains the subject identifier `subj_id` and `sex`.\n",
    "\n",
    "You thus can propagate the information contained in the subject table to the trial table, adding the column `sex` for each row of the trial table.\n",
    "\n",
    "To do such kind of propagation, you need to:\n",
    "- know which columns are similar across the dataframes\n",
    "- use the pandas function `merge`\n",
    "\n",
    "To know which columns are identical, use the `isin` function on columns:\n",
    "`df1.columns[df1.columns.isin(df2.columns)]`"
   ],
   "metadata": {
    "collapsed": false
   }
  },
  {
   "cell_type": "code",
   "execution_count": 138,
   "outputs": [
    {
     "name": "stdout",
     "output_type": "stream",
     "text": [
      "Similar column df_trial / df_sess : Index(['eid'], dtype='object')\n",
      "Similar column df_subj / df_sess : Index(['subject', 'subj_id', 'lab'], dtype='object')\n"
     ]
    }
   ],
   "source": [
    "print(f'Similar column df_trial / df_sess : {df_trial.columns[df_trial.columns.isin(df_sess.columns)]}')\n",
    "print(f'Similar column df_subj / df_sess : {df_subj.columns[df_subj.columns.isin(df_sess.columns)]}')"
   ],
   "metadata": {
    "collapsed": false,
    "ExecuteTime": {
     "end_time": "2023-07-26T13:12:18.842726Z",
     "start_time": "2023-07-26T13:12:18.828255Z"
    }
   }
  },
  {
   "cell_type": "markdown",
   "source": [
    "The columns that are similar between dataframes are the following:\n",
    "- `df_subj` and `df_sess` have the common columns:\n",
    "    - `subject`\n",
    "    - `lab`\n",
    "    - `subj_id`: Note that it is better to use the `subj_id` for merging, as it is the subject's unique identifier. Indeed, a mouse can have the same `subject` name in `lab` A or B.\n",
    "- `df_sess` and `df_trials` have the common column:\n",
    "    - `eid`, which is the session's unique identifier.\n",
    "\n",
    "To merge information across dataframes, use `merge` and specificy the `on` column:\n",
    "\n",
    "If wanting to merge all columns:\n",
    "`df1 = df1.merge(df2, on='col_merge')`\n",
    "\n",
    "If wanting to merge only specific columns:\n",
    "`df1 = df1.merge(df2[['col_merge', 'col_add_1', 'col_add_2']], on='col_merge')`\n",
    "--> Notice the use of `[ ]` to generate a list of column names\n",
    "\n",
    "\n",
    "For the example of the propagating the column `sex`, we need to merge two times:"
   ],
   "metadata": {
    "collapsed": false
   }
  },
  {
   "cell_type": "code",
   "execution_count": 127,
   "outputs": [],
   "source": [
    "# Merge\n",
    "df_sess = df_sess.merge(df_subj[['subj_id', 'sex']], on='subj_id') # Add [sex] column into the session based on the subject id\n",
    "df_trial = df_trial.merge(df_sess[['eid', 'sex']], on='eid') # Add [sex] column into the trial based on the session eid\n",
    "\n",
    "# Note: We only want to add the 'sex' column to the dataframe, by merging based on the subj_id or eid.\n",
    "# So we select just the two columns (the one to propagate [sex] and the one to merge on [subj_id] or [eid]) from the dataframe of interest when merging."
   ],
   "metadata": {
    "collapsed": false,
    "ExecuteTime": {
     "end_time": "2023-07-26T12:53:33.246363Z",
     "start_time": "2023-07-26T12:53:33.037369Z"
    }
   }
  },
  {
   "cell_type": "markdown",
   "source": [
    "Look again at the trials dataframe (towards the far right), there is a new column `sex`:"
   ],
   "metadata": {
    "collapsed": false
   }
  },
  {
   "cell_type": "code",
   "execution_count": 128,
   "outputs": [
    {
     "data": {
      "text/plain": "   goCueTrigger_times  stimOff_times  goCue_times  response_times  choice  \\\n0          117.456930     118.805552   117.457586       117.75133     1.0   \n1          127.268840     128.671932   127.269772       127.61124     1.0   \n2          131.702041     133.068359   131.703362       132.00624     1.0   \n\n   stimOn_times  contrastLeft  contrastRight  probabilityLeft  feedback_times  \\\n0    117.555543         1.000            NaN              0.5      117.751457   \n1    127.268639         0.125            NaN              0.5      127.611338   \n2    131.701895         1.000            NaN              0.5      132.006365   \n\n   feedbackType  rewardVolume  firstMovement_times  intervals_0  intervals_1  \\\n0           1.0           1.5           117.641626   116.695529   119.305634   \n1           1.0           1.5           127.492626   119.997332   129.171944   \n2           1.0           1.5           131.802626   129.895043   133.568441   \n\n                                    eid  trial_number sex  \n0  ae8787b1-4229-4d56-b0c2-566b61a25b77             0   M  \n1  ae8787b1-4229-4d56-b0c2-566b61a25b77             1   M  \n2  ae8787b1-4229-4d56-b0c2-566b61a25b77             2   M  ",
      "text/html": "<div>\n<style scoped>\n    .dataframe tbody tr th:only-of-type {\n        vertical-align: middle;\n    }\n\n    .dataframe tbody tr th {\n        vertical-align: top;\n    }\n\n    .dataframe thead th {\n        text-align: right;\n    }\n</style>\n<table border=\"1\" class=\"dataframe\">\n  <thead>\n    <tr style=\"text-align: right;\">\n      <th></th>\n      <th>goCueTrigger_times</th>\n      <th>stimOff_times</th>\n      <th>goCue_times</th>\n      <th>response_times</th>\n      <th>choice</th>\n      <th>stimOn_times</th>\n      <th>contrastLeft</th>\n      <th>contrastRight</th>\n      <th>probabilityLeft</th>\n      <th>feedback_times</th>\n      <th>feedbackType</th>\n      <th>rewardVolume</th>\n      <th>firstMovement_times</th>\n      <th>intervals_0</th>\n      <th>intervals_1</th>\n      <th>eid</th>\n      <th>trial_number</th>\n      <th>sex</th>\n    </tr>\n  </thead>\n  <tbody>\n    <tr>\n      <th>0</th>\n      <td>117.456930</td>\n      <td>118.805552</td>\n      <td>117.457586</td>\n      <td>117.75133</td>\n      <td>1.0</td>\n      <td>117.555543</td>\n      <td>1.000</td>\n      <td>NaN</td>\n      <td>0.5</td>\n      <td>117.751457</td>\n      <td>1.0</td>\n      <td>1.5</td>\n      <td>117.641626</td>\n      <td>116.695529</td>\n      <td>119.305634</td>\n      <td>ae8787b1-4229-4d56-b0c2-566b61a25b77</td>\n      <td>0</td>\n      <td>M</td>\n    </tr>\n    <tr>\n      <th>1</th>\n      <td>127.268840</td>\n      <td>128.671932</td>\n      <td>127.269772</td>\n      <td>127.61124</td>\n      <td>1.0</td>\n      <td>127.268639</td>\n      <td>0.125</td>\n      <td>NaN</td>\n      <td>0.5</td>\n      <td>127.611338</td>\n      <td>1.0</td>\n      <td>1.5</td>\n      <td>127.492626</td>\n      <td>119.997332</td>\n      <td>129.171944</td>\n      <td>ae8787b1-4229-4d56-b0c2-566b61a25b77</td>\n      <td>1</td>\n      <td>M</td>\n    </tr>\n    <tr>\n      <th>2</th>\n      <td>131.702041</td>\n      <td>133.068359</td>\n      <td>131.703362</td>\n      <td>132.00624</td>\n      <td>1.0</td>\n      <td>131.701895</td>\n      <td>1.000</td>\n      <td>NaN</td>\n      <td>0.5</td>\n      <td>132.006365</td>\n      <td>1.0</td>\n      <td>1.5</td>\n      <td>131.802626</td>\n      <td>129.895043</td>\n      <td>133.568441</td>\n      <td>ae8787b1-4229-4d56-b0c2-566b61a25b77</td>\n      <td>2</td>\n      <td>M</td>\n    </tr>\n  </tbody>\n</table>\n</div>"
     },
     "metadata": {},
     "output_type": "display_data"
    }
   ],
   "source": [
    "display(df_trial.head(3))"
   ],
   "metadata": {
    "collapsed": false,
    "ExecuteTime": {
     "end_time": "2023-07-26T12:53:33.312214Z",
     "start_time": "2023-07-26T12:53:33.129893Z"
    }
   }
  },
  {
   "cell_type": "markdown",
   "source": [
    "# Step 2: Select a project\n",
    "\n",
    "## Project 1: Do male mice respond faster than female mice?\n",
    "\n",
    "In this project, we are interested to know whether female mice respond differently than male mice. This is important, because we want to pool data across mice and make generalised conclusion. Therefore, we need to know whether their behavior is indistinguishable. To study this, we will look at the reaction time in trials where the animals responded either correctly or incorrectly.\n",
    "\n",
    "In this project, you will first:\n",
    "- Learn how to search the dataframes for male or female subjects\n",
    "- Learn how to compute reactions times\n",
    "- Learn how to study reaction times in correct versus incorrect trials\n",
    "- Explore the trend of the reaction times across a session, by viewing the reaction times across trials, for an example session from either a female or male mice\n",
    "\n",
    "Then, you will be tasked to:\n",
    "- Visualise whether the reaction times across trials shows a different trend for female and male mice\n",
    "- Find a good epoch in the session, and a good metric, to perform the comparison. For example, per mouse, take the first N trials of the session, and compute the median reaction time over it. Compare the median reaction time for male versus female mile\n",
    "\n",
    "### Loading and visualising the data\n",
    "Use the pandas `read_parquet` function to load in each dataframe:\n"
   ],
   "metadata": {
    "collapsed": false
   }
  },
  {
   "cell_type": "code",
   "execution_count": 129,
   "outputs": [],
   "source": [
    "import pandas as pd\n",
    "from pathlib import Path\n",
    "import numpy as np\n",
    "\n",
    "LOCAL_PATH = Path('/Users/gaelle/Documents/Work/Course')\n",
    "\n",
    "# Load the data\n",
    "df_sess = pd.read_parquet(LOCAL_PATH.joinpath('sessions.pqt'))\n",
    "df_subj = pd.read_parquet(LOCAL_PATH.joinpath('subjects.pqt'))\n",
    "df_trial = pd.read_parquet(LOCAL_PATH.joinpath('trials.pqt'))"
   ],
   "metadata": {
    "collapsed": false,
    "ExecuteTime": {
     "end_time": "2023-07-26T12:53:33.393622Z",
     "start_time": "2023-07-26T12:53:33.139565Z"
    }
   }
  },
  {
   "cell_type": "markdown",
   "source": [
    "- `df_sess`: each row contains the information on a session, e.g. its start time and date\n",
    "- `ds_subj`: each row contains the information on a subject, e.g. its name or sex\n",
    "- `ds_trial`: each row contain the information on a trial (of a particular session), e.g. whether the response was correct or incorrect on that trial\n"
   ],
   "metadata": {
    "collapsed": false
   }
  },
  {
   "cell_type": "markdown",
   "source": [
    "To know whether a mouse is male or female, look into the column `sex` of the `subjects` dataframe:"
   ],
   "metadata": {
    "collapsed": false
   }
  },
  {
   "cell_type": "code",
   "execution_count": 130,
   "outputs": [
    {
     "name": "stdout",
     "output_type": "stream",
     "text": [
      "Index(['subject', 'subj_id', 'birth_date', 'sex', 'lab'], dtype='object')\n",
      "['F' 'M']\n"
     ]
    }
   ],
   "source": [
    "print(df_subj.columns)\n",
    "# We print the unique values from the column sex:\n",
    "print(np.unique(df_subj['sex']))"
   ],
   "metadata": {
    "collapsed": false,
    "ExecuteTime": {
     "end_time": "2023-07-26T12:53:33.438793Z",
     "start_time": "2023-07-26T12:53:33.265405Z"
    }
   }
  },
  {
   "cell_type": "markdown",
   "source": [
    "To compute the reaction time, we will need to use the two variables from the `trials` dataframe:\n",
    "- the go cue time, found in the colum `goCue_times`\n",
    "- the response time, found in the column `response_times`\n",
    "\n",
    "These are the times (in second from the session start) at which the go cue was sent, and a response from the mouse was registered, respectively."
   ],
   "metadata": {
    "collapsed": false
   }
  },
  {
   "cell_type": "code",
   "execution_count": 131,
   "outputs": [
    {
     "name": "stdout",
     "output_type": "stream",
     "text": [
      "Index(['goCueTrigger_times', 'stimOff_times', 'goCue_times', 'response_times',\n",
      "       'choice', 'stimOn_times', 'contrastLeft', 'contrastRight',\n",
      "       'probabilityLeft', 'feedback_times', 'feedbackType', 'rewardVolume',\n",
      "       'firstMovement_times', 'intervals_0', 'intervals_1', 'eid',\n",
      "       'trial_number'],\n",
      "      dtype='object')\n"
     ]
    }
   ],
   "source": [
    "print(df_trial.columns)\n",
    "\n",
    "df_trial['reaction_time'] = df_trial['response_times'] - df_trial['goCue_times']"
   ],
   "metadata": {
    "collapsed": false,
    "ExecuteTime": {
     "end_time": "2023-07-26T12:53:33.439073Z",
     "start_time": "2023-07-26T12:53:33.276657Z"
    }
   }
  },
  {
   "cell_type": "code",
   "execution_count": 132,
   "outputs": [
    {
     "name": "stdout",
     "output_type": "stream",
     "text": [
      "Index(['goCueTrigger_times', 'stimOff_times', 'goCue_times', 'response_times',\n",
      "       'choice', 'stimOn_times', 'contrastLeft', 'contrastRight',\n",
      "       'probabilityLeft', 'feedback_times', 'feedbackType', 'rewardVolume',\n",
      "       'firstMovement_times', 'intervals_0', 'intervals_1', 'eid',\n",
      "       'trial_number', 'reaction_time', 'sex'],\n",
      "      dtype='object')\n"
     ]
    }
   ],
   "source": [
    "# Merge\n",
    "df_sess = df_sess.merge(df_subj[['subject', 'sex']], on='subject')\n",
    "df_trial_neg_rt = df_trial_neg_rt.merge(df_sess[['eid', 'sex']], on='eid')\n",
    "\n",
    "print(df_trial_neg_rt.columns)  # Notice we added in the 'sex' column"
   ],
   "metadata": {
    "collapsed": false,
    "ExecuteTime": {
     "end_time": "2023-07-26T12:53:33.439270Z",
     "start_time": "2023-07-26T12:53:33.284238Z"
    }
   }
  },
  {
   "cell_type": "markdown",
   "source": [
    "We will now plot the distribution of reaction time (this is across all sessions and all mice). You can use either a histogram plot, or a kernel density estimate plot:"
   ],
   "metadata": {
    "collapsed": false
   }
  },
  {
   "cell_type": "code",
   "execution_count": 133,
   "outputs": [
    {
     "data": {
      "text/plain": "<Axes: >"
     },
     "execution_count": 133,
     "metadata": {},
     "output_type": "execute_result"
    },
    {
     "data": {
      "text/plain": "<Figure size 640x480 with 1 Axes>",
      "image/png": "[encoded data removed]"
     },
     "metadata": {},
     "output_type": "display_data"
    }
   ],
   "source": [
    "df_trial['reaction_time'].hist()"
   ],
   "metadata": {
    "collapsed": false,
    "ExecuteTime": {
     "end_time": "2023-07-26T12:53:33.628260Z",
     "start_time": "2023-07-26T12:53:33.348742Z"
    }
   }
  },
  {
   "cell_type": "code",
   "execution_count": 134,
   "outputs": [
    {
     "data": {
      "text/plain": "<Axes: ylabel='Density'>"
     },
     "execution_count": 134,
     "metadata": {},
     "output_type": "execute_result"
    },
    {
     "data": {
      "text/plain": "<Figure size 640x480 with 1 Axes>",
      "image/png": "[encoded data removed]"
     },
     "metadata": {},
     "output_type": "display_data"
    }
   ],
   "source": [
    "df_trial['reaction_time'].plot(kind='kde')"
   ],
   "metadata": {
    "collapsed": false,
    "ExecuteTime": {
     "end_time": "2023-07-26T12:53:35.694128Z",
     "start_time": "2023-07-26T12:53:33.603412Z"
    }
   }
  },
  {
   "cell_type": "markdown",
   "source": [
    "Did you notice that some reactions times are negative? This can be surprising at first, as this means the mouse made a response before the stimulus was even presented. Let's see how many trials with negative RTs there are:"
   ],
   "metadata": {
    "collapsed": false
   }
  },
  {
   "cell_type": "code",
   "execution_count": 135,
   "outputs": [
    {
     "name": "stdout",
     "output_type": "stream",
     "text": [
      "575\n"
     ]
    }
   ],
   "source": [
    "df_trial_neg_rt = df_trial[df_trial['reaction_time'] < 0]\n",
    "print(len(df_trial_neg_rt))"
   ],
   "metadata": {
    "collapsed": false,
    "ExecuteTime": {
     "end_time": "2023-07-26T12:53:35.751167Z",
     "start_time": "2023-07-26T12:53:35.695002Z"
    }
   }
  },
  {
   "cell_type": "markdown",
   "source": [
    "Let's see if negative reaction times occur in both male and female mice.\n",
    "First, we need to join the trials and subjects table through the sessions table, to later be able to group by the reaction time values by sex type:"
   ],
   "metadata": {
    "collapsed": false
   }
  },
  {
   "cell_type": "code",
   "execution_count": 136,
   "outputs": [
    {
     "ename": "KeyError",
     "evalue": "\"['sex'] not in index\"",
     "output_type": "error",
     "traceback": [
      "\u001B[0;31m---------------------------------------------------------------------------\u001B[0m",
      "\u001B[0;31mKeyError\u001B[0m                                  Traceback (most recent call last)",
      "Cell \u001B[0;32mIn[136], line 3\u001B[0m\n\u001B[1;32m      1\u001B[0m \u001B[38;5;66;03m# Merge\u001B[39;00m\n\u001B[1;32m      2\u001B[0m df_sess \u001B[38;5;241m=\u001B[39m df_sess\u001B[38;5;241m.\u001B[39mmerge(df_subj[[\u001B[38;5;124m'\u001B[39m\u001B[38;5;124msubject\u001B[39m\u001B[38;5;124m'\u001B[39m, \u001B[38;5;124m'\u001B[39m\u001B[38;5;124msex\u001B[39m\u001B[38;5;124m'\u001B[39m]], on\u001B[38;5;241m=\u001B[39m\u001B[38;5;124m'\u001B[39m\u001B[38;5;124msubject\u001B[39m\u001B[38;5;124m'\u001B[39m)\n\u001B[0;32m----> 3\u001B[0m df_trial_neg_rt \u001B[38;5;241m=\u001B[39m df_trial_neg_rt\u001B[38;5;241m.\u001B[39mmerge(\u001B[43mdf_sess\u001B[49m\u001B[43m[\u001B[49m\u001B[43m[\u001B[49m\u001B[38;5;124;43m'\u001B[39;49m\u001B[38;5;124;43meid\u001B[39;49m\u001B[38;5;124;43m'\u001B[39;49m\u001B[43m,\u001B[49m\u001B[43m \u001B[49m\u001B[38;5;124;43m'\u001B[39;49m\u001B[38;5;124;43msex\u001B[39;49m\u001B[38;5;124;43m'\u001B[39;49m\u001B[43m]\u001B[49m\u001B[43m]\u001B[49m, on\u001B[38;5;241m=\u001B[39m\u001B[38;5;124m'\u001B[39m\u001B[38;5;124meid\u001B[39m\u001B[38;5;124m'\u001B[39m)\n\u001B[1;32m      5\u001B[0m \u001B[38;5;28mprint\u001B[39m(df_trial_neg_rt\u001B[38;5;241m.\u001B[39mcolumns)  \u001B[38;5;66;03m# Notice we added in the 'sex' column\u001B[39;00m\n",
      "File \u001B[0;32m~/anaconda3/envs/iblenv/lib/python3.10/site-packages/pandas/core/frame.py:3813\u001B[0m, in \u001B[0;36mDataFrame.__getitem__\u001B[0;34m(self, key)\u001B[0m\n\u001B[1;32m   3811\u001B[0m     \u001B[38;5;28;01mif\u001B[39;00m is_iterator(key):\n\u001B[1;32m   3812\u001B[0m         key \u001B[38;5;241m=\u001B[39m \u001B[38;5;28mlist\u001B[39m(key)\n\u001B[0;32m-> 3813\u001B[0m     indexer \u001B[38;5;241m=\u001B[39m \u001B[38;5;28;43mself\u001B[39;49m\u001B[38;5;241;43m.\u001B[39;49m\u001B[43mcolumns\u001B[49m\u001B[38;5;241;43m.\u001B[39;49m\u001B[43m_get_indexer_strict\u001B[49m\u001B[43m(\u001B[49m\u001B[43mkey\u001B[49m\u001B[43m,\u001B[49m\u001B[43m \u001B[49m\u001B[38;5;124;43m\"\u001B[39;49m\u001B[38;5;124;43mcolumns\u001B[39;49m\u001B[38;5;124;43m\"\u001B[39;49m\u001B[43m)\u001B[49m[\u001B[38;5;241m1\u001B[39m]\n\u001B[1;32m   3815\u001B[0m \u001B[38;5;66;03m# take() does not accept boolean indexers\u001B[39;00m\n\u001B[1;32m   3816\u001B[0m \u001B[38;5;28;01mif\u001B[39;00m \u001B[38;5;28mgetattr\u001B[39m(indexer, \u001B[38;5;124m\"\u001B[39m\u001B[38;5;124mdtype\u001B[39m\u001B[38;5;124m\"\u001B[39m, \u001B[38;5;28;01mNone\u001B[39;00m) \u001B[38;5;241m==\u001B[39m \u001B[38;5;28mbool\u001B[39m:\n",
      "File \u001B[0;32m~/anaconda3/envs/iblenv/lib/python3.10/site-packages/pandas/core/indexes/base.py:6070\u001B[0m, in \u001B[0;36mIndex._get_indexer_strict\u001B[0;34m(self, key, axis_name)\u001B[0m\n\u001B[1;32m   6067\u001B[0m \u001B[38;5;28;01melse\u001B[39;00m:\n\u001B[1;32m   6068\u001B[0m     keyarr, indexer, new_indexer \u001B[38;5;241m=\u001B[39m \u001B[38;5;28mself\u001B[39m\u001B[38;5;241m.\u001B[39m_reindex_non_unique(keyarr)\n\u001B[0;32m-> 6070\u001B[0m \u001B[38;5;28;43mself\u001B[39;49m\u001B[38;5;241;43m.\u001B[39;49m\u001B[43m_raise_if_missing\u001B[49m\u001B[43m(\u001B[49m\u001B[43mkeyarr\u001B[49m\u001B[43m,\u001B[49m\u001B[43m \u001B[49m\u001B[43mindexer\u001B[49m\u001B[43m,\u001B[49m\u001B[43m \u001B[49m\u001B[43maxis_name\u001B[49m\u001B[43m)\u001B[49m\n\u001B[1;32m   6072\u001B[0m keyarr \u001B[38;5;241m=\u001B[39m \u001B[38;5;28mself\u001B[39m\u001B[38;5;241m.\u001B[39mtake(indexer)\n\u001B[1;32m   6073\u001B[0m \u001B[38;5;28;01mif\u001B[39;00m \u001B[38;5;28misinstance\u001B[39m(key, Index):\n\u001B[1;32m   6074\u001B[0m     \u001B[38;5;66;03m# GH 42790 - Preserve name from an Index\u001B[39;00m\n",
      "File \u001B[0;32m~/anaconda3/envs/iblenv/lib/python3.10/site-packages/pandas/core/indexes/base.py:6133\u001B[0m, in \u001B[0;36mIndex._raise_if_missing\u001B[0;34m(self, key, indexer, axis_name)\u001B[0m\n\u001B[1;32m   6130\u001B[0m     \u001B[38;5;28;01mraise\u001B[39;00m \u001B[38;5;167;01mKeyError\u001B[39;00m(\u001B[38;5;124mf\u001B[39m\u001B[38;5;124m\"\u001B[39m\u001B[38;5;124mNone of [\u001B[39m\u001B[38;5;132;01m{\u001B[39;00mkey\u001B[38;5;132;01m}\u001B[39;00m\u001B[38;5;124m] are in the [\u001B[39m\u001B[38;5;132;01m{\u001B[39;00maxis_name\u001B[38;5;132;01m}\u001B[39;00m\u001B[38;5;124m]\u001B[39m\u001B[38;5;124m\"\u001B[39m)\n\u001B[1;32m   6132\u001B[0m not_found \u001B[38;5;241m=\u001B[39m \u001B[38;5;28mlist\u001B[39m(ensure_index(key)[missing_mask\u001B[38;5;241m.\u001B[39mnonzero()[\u001B[38;5;241m0\u001B[39m]]\u001B[38;5;241m.\u001B[39munique())\n\u001B[0;32m-> 6133\u001B[0m \u001B[38;5;28;01mraise\u001B[39;00m \u001B[38;5;167;01mKeyError\u001B[39;00m(\u001B[38;5;124mf\u001B[39m\u001B[38;5;124m\"\u001B[39m\u001B[38;5;132;01m{\u001B[39;00mnot_found\u001B[38;5;132;01m}\u001B[39;00m\u001B[38;5;124m not in index\u001B[39m\u001B[38;5;124m\"\u001B[39m)\n",
      "\u001B[0;31mKeyError\u001B[0m: \"['sex'] not in index\""
     ]
    }
   ],
   "source": [
    "# Merge\n",
    "df_sess = df_sess.merge(df_subj[['subject', 'sex']], on='subject')\n",
    "df_trial_neg_rt = df_trial_neg_rt.merge(df_sess[['eid', 'sex']], on='eid')\n",
    "\n",
    "print(df_trial_neg_rt.columns)  # Notice we added in the 'sex' column"
   ],
   "metadata": {
    "collapsed": false,
    "ExecuteTime": {
     "end_time": "2023-07-26T12:53:35.797003Z",
     "start_time": "2023-07-26T12:53:35.747992Z"
    }
   }
  },
  {
   "cell_type": "code",
   "execution_count": null,
   "outputs": [],
   "source": [
    "df_trial_neg_rt.groupby('sex')['reaction_time'].count()"
   ],
   "metadata": {
    "collapsed": false,
    "ExecuteTime": {
     "start_time": "2023-07-26T12:53:35.795522Z"
    }
   }
  },
  {
   "cell_type": "markdown",
   "source": [
    "There seems to be more negative reaction time in female mice when displaying just this number, however you have to take into account the proportion of female versus male mice (i.e. we may have many more females than males to begin with).\n",
    " - Can you find out how many trials there are for female and male mice?\n",
    "  - And the proportion of trials done by female compared to male mice?\n",
    "    - Would this proportion explain the difference with see here with negative reaction time?"
   ],
   "metadata": {
    "collapsed": false
   }
  },
  {
   "cell_type": "markdown",
   "source": [
    "Let's see if negative reaction times occur at the end or beginning of the session. We generate the histogram of trial number with negative reaction times:"
   ],
   "metadata": {
    "collapsed": false
   }
  },
  {
   "cell_type": "code",
   "execution_count": null,
   "outputs": [],
   "source": [
    "df_trial_neg_rt[\"trial_number\"].hist()"
   ],
   "metadata": {
    "collapsed": false
   }
  },
  {
   "cell_type": "markdown",
   "source": [
    "This seems pretty evenly spread. However, this may be confounded by the fact that we look at several mice at once.\n",
    "\n",
    "To see this histogram distribution for either male and female mice on the same plot, we use `groupby`:"
   ],
   "metadata": {
    "collapsed": false
   }
  },
  {
   "cell_type": "code",
   "execution_count": null,
   "outputs": [],
   "source": [
    "import matplotlib.pyplot as plt\n",
    "# Note that matplotlib is required to plot the legend\n",
    "\n",
    "# Plot the histogram of trial numbers for both male and female mice\n",
    "df_trial_neg_rt.groupby('sex')['trial_number'].plot(kind='hist')\n",
    "\n",
    "# Add legends for the curves (sex)\n",
    "plt.legend(df_trial_neg_rt.groupby('sex').sex.dtype.index.to_list(), title='Sex')\n"
   ],
   "metadata": {
    "collapsed": false
   }
  },
  {
   "cell_type": "markdown",
   "source": [
    "You can also use boxplot to reveal the distributions side by side:"
   ],
   "metadata": {
    "collapsed": false
   }
  },
  {
   "cell_type": "code",
   "execution_count": null,
   "outputs": [],
   "source": [
    "df_trial_neg_rt.plot.box(column=\"trial_number\", by=\"sex\")"
   ],
   "metadata": {
    "collapsed": false
   }
  },
  {
   "cell_type": "markdown",
   "source": [
    "- Can you plot the distribution of trial number for negative reaction time per subject?\n",
    "- How many negative reaction time does each subject do?\n",
    "- Is there an outlier subject? Can you see if this happens over one, or several session for this outlier?"
   ],
   "metadata": {
    "collapsed": false
   }
  },
  {
   "cell_type": "markdown",
   "source": [
    "### Further questions\n",
    "\n",
    "We have focused on trials with negative reaction times to get you started, however what we really want to know if whether female and male mice respond faster when the reaction time is positive.\n",
    "\n",
    "- Merge the trials table with the session/subject tables so that it contains the information on `sex` and `subject` name in new columns.\n",
    "- Create a new trial dataframe with only positive ( `> 0` ) reaction time trials\n",
    "- Plot the distribution of reaction time for male and female mice using `kde`\n",
    "-"
   ],
   "metadata": {
    "collapsed": false
   }
  },
  {
   "cell_type": "markdown",
   "source": [],
   "metadata": {
    "collapsed": false
   }
  },
  {
   "cell_type": "markdown",
   "source": [
    "## Project 2: Does training at late time in the day impact on performance?"
   ],
   "metadata": {
    "collapsed": false
   }
  }
 ],
 "metadata": {
  "kernelspec": {
   "display_name": "Python 3",
   "language": "python",
   "name": "python3"
  },
  "language_info": {
   "codemirror_mode": {
    "name": "ipython",
    "version": 2
   },
   "file_extension": ".py",
   "mimetype": "text/x-python",
   "name": "python",
   "nbconvert_exporter": "python",
   "pygments_lexer": "ipython2",
   "version": "2.7.6"
  }
 },
 "nbformat": 4,
 "nbformat_minor": 0
}
