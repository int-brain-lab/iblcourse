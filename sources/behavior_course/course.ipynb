{
 "cells": [
  {
   "cell_type": "markdown",
   "source": [
    "# Topic of the course\n",
    "\n",
    "In this practical course, you will explore the behavior of expert mice doing the IBL task. Mice perform the task one time a day, and we call this a behavioral training *session*.\n",
    "\n",
    "We will explore together some responses of the mice, and then you will select one of these projects:\n",
    "- Do male mice respond faster than female mice?\n",
    "- Does training at late time in the day impact on performance?\n",
    "\n",
    "# Introduction: What data will be used\n",
    "\n",
    "We will use three [pandas dataframes](https://pandas.pydata.org/docs/reference/api/pandas.DataFrame.html):\n",
    "- `df_subjects` that contains the information on the mouse, which we call subject, for example its name, its date of birth\n",
    "- `df_sessions` that contains the information on the behavioral sessions made by each subject, for example the start time of the session, or the task protocol used\n",
    "- `df_trials` that contains the information for each trials of the sessions, for example the time of the go cue.\n",
    "\n",
    "These dataframe will contain the information of over 300+ sessions, for over 100+ mice.\n",
    "\n",
    "## Download the datasets\n",
    "Use this [script](../behavior_course/scripts/data_loading.py) to download the datasets. Set the `LOCAL_DATA_PATH` to a folder on your machine where you want the data downloaded.\n",
    "\n",
    "## Technical references\n",
    "Before starting the analysis, get familiar with :\n",
    "- [pandas dataframes](https://pandas.pydata.org/docs/reference/api/pandas.DataFrame.html)\n"
   ],
   "metadata": {
    "collapsed": false
   }
  },
  {
   "cell_type": "markdown",
   "source": [
    "# Step 1: Explore the data\n",
    "\n",
    "## Using the visualisation website\n",
    "\n",
    "You can view the session using the visualisation website, and scrolling down to the session overview page.\n",
    "You can write a mouse name in the search bar (note that one mouse may have several sessions).\n",
    "\n",
    "- We use here one [example session](https://viz.internationalbrainlab.org/app?dset=bwm&pid=53ecbf4f-e0d8-4fe6-a852-8b934a37a1c2&tid=0&cid=1399&qc=0) of subject `KS014`"
   ],
   "metadata": {
    "collapsed": false
   }
  },
  {
   "cell_type": "markdown",
   "source": [
    "![Viz webpage: session overview](../behavior_course/images/behaviour_overview_PID_53ecbf4f-e0d8-4fe6-a852-8b934a37a1c2.png)\n",
    "\n",
    "Do you notice that the mouse reaction time increases over the course of the session?"
   ],
   "metadata": {
    "collapsed": false
   }
  },
  {
   "cell_type": "markdown",
   "source": [
    "Further down the page, you can observe the timing between events (stim on, first move etc) at each trial; click on the left-image to see a particular trial of interest:"
   ],
   "metadata": {
    "collapsed": false
   }
  },
  {
   "cell_type": "markdown",
   "source": [
    "![Viz webpage: trial overview](../behavior_course/images/trial-0153.png)\n",
    "Look at the first 3 trials, and the last 3 trials during the session. Do you notice any difference?"
   ],
   "metadata": {
    "collapsed": false
   }
  },
  {
   "cell_type": "markdown",
   "source": [
    "You can also see the mouse performing the task in real time, and get a sense for how the task enfolds using the panel below ; you can click and drag the center view to explore the environment the mouse is behaving in."
   ],
   "metadata": {
    "collapsed": false
   }
  },
  {
   "cell_type": "markdown",
   "source": [
    "![Viz webpage: setup](../behavior_course/images/behavior_video.png)\n",
    "Look at the contrast on the screen, and pretend you are doing the task in your mind. Would you have been as fast as the mouse to react and place the stimulus in the center?"
   ],
   "metadata": {
    "collapsed": false
   }
  },
  {
   "cell_type": "code",
   "execution_count": null,
   "outputs": [],
   "source": [],
   "metadata": {
    "collapsed": false,
    "ExecuteTime": {
     "end_time": "2023-07-18T11:23:29.353836Z",
     "start_time": "2023-07-18T11:23:29.345259Z"
    }
   }
  }
 ],
 "metadata": {
  "kernelspec": {
   "display_name": "Python 3",
   "language": "python",
   "name": "python3"
  },
  "language_info": {
   "codemirror_mode": {
    "name": "ipython",
    "version": 2
   },
   "file_extension": ".py",
   "mimetype": "text/x-python",
   "name": "python",
   "nbconvert_exporter": "python",
   "pygments_lexer": "ipython2",
   "version": "2.7.6"
  }
 },
 "nbformat": 4,
 "nbformat_minor": 0
}
